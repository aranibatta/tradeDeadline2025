{
 "cells": [
  {
   "cell_type": "markdown",
   "id": "68a791ee-d1d5-4575-9967-cd25f8dc95dd",
   "metadata": {},
   "source": [
    "# Simple Analysis of the 2025 NBA Trade Deadline"
   ]
  },
  {
   "cell_type": "code",
   "execution_count": 1,
   "id": "c474e611-096d-4f38-8e13-c529c263b834",
   "metadata": {},
   "outputs": [],
   "source": [
    "import networkx as nx\n",
    "import plotly.graph_objects as go\n",
    "import pandas as pd\n",
    "import numpy as np"
   ]
  },
  {
   "cell_type": "markdown",
   "id": "0250415f-1845-4ca3-973f-882e45f66551",
   "metadata": {},
   "source": [
    "Let's get a better understanding of who got traded during the deadline, a read of all the packages that got moved, and a working understanding of how the dynamics of this NBA season may have shifted. Here are the following steps that I plan to take.\n",
    "1. Pull all the trade data (Anything from start of season to Feb 6 2025)\n",
    "2. Clean it up in a way that's easy to read. Then visualize the nodes teams) and the assets moved (edges).\n",
    "3. See what each team's P+R+A delta may have changed."
   ]
  },
  {
   "cell_type": "code",
   "execution_count": 2,
   "id": "4944ec8c-db4e-4e9c-8589-dcd9af3815e9",
   "metadata": {},
   "outputs": [
    {
     "data": {
      "text/html": [
       "<div>\n",
       "<style scoped>\n",
       "    .dataframe tbody tr th:only-of-type {\n",
       "        vertical-align: middle;\n",
       "    }\n",
       "\n",
       "    .dataframe tbody tr th {\n",
       "        vertical-align: top;\n",
       "    }\n",
       "\n",
       "    .dataframe thead th {\n",
       "        text-align: right;\n",
       "    }\n",
       "</style>\n",
       "<table border=\"1\" class=\"dataframe\">\n",
       "  <thead>\n",
       "    <tr style=\"text-align: right;\">\n",
       "      <th></th>\n",
       "      <th>Date</th>\n",
       "      <th>Team1</th>\n",
       "      <th>Team2</th>\n",
       "      <th>Team3</th>\n",
       "      <th>Team4</th>\n",
       "      <th>Team5</th>\n",
       "    </tr>\n",
       "  </thead>\n",
       "  <tbody>\n",
       "    <tr>\n",
       "      <th>Dec 15</th>\n",
       "      <td>2024</td>\n",
       "      <td>Warriors: Dennis Schröder</td>\n",
       "      <td>Nets: De’Anthony Melton; Reece Beekman</td>\n",
       "      <td>NaN</td>\n",
       "      <td>NaN</td>\n",
       "      <td>NaN</td>\n",
       "    </tr>\n",
       "    <tr>\n",
       "      <th>Dec 15</th>\n",
       "      <td>2024</td>\n",
       "      <td>Pacers: Thomas Bryant</td>\n",
       "      <td>Heat: Draft Compensation</td>\n",
       "      <td>NaN</td>\n",
       "      <td>NaN</td>\n",
       "      <td>NaN</td>\n",
       "    </tr>\n",
       "    <tr>\n",
       "      <th>Dec 29</th>\n",
       "      <td>2024</td>\n",
       "      <td>Lakers: Dorian Finney-Smith; Shake Milton</td>\n",
       "      <td>Nets: D’Angelo Russell; Maxwell Lewis</td>\n",
       "      <td>NaN</td>\n",
       "      <td>NaN</td>\n",
       "      <td>NaN</td>\n",
       "    </tr>\n",
       "    <tr>\n",
       "      <th>Jan 15</th>\n",
       "      <td>2025</td>\n",
       "      <td>Suns: Nick Richards</td>\n",
       "      <td>Hornets: Josh Okogie</td>\n",
       "      <td>NaN</td>\n",
       "      <td>NaN</td>\n",
       "      <td>NaN</td>\n",
       "    </tr>\n",
       "    <tr>\n",
       "      <th>Feb 1</th>\n",
       "      <td>2025</td>\n",
       "      <td>Clippers: Drew Eubanks; Patty Mills</td>\n",
       "      <td>Jazz: Mo Bamba; P.J. Tucker</td>\n",
       "      <td>NaN</td>\n",
       "      <td>NaN</td>\n",
       "      <td>NaN</td>\n",
       "    </tr>\n",
       "    <tr>\n",
       "      <th>Feb 2</th>\n",
       "      <td>2025</td>\n",
       "      <td>Lakers: Luka Dončić; Maxi Kleber; Markieff Morris</td>\n",
       "      <td>Mavericks: Anthony Davis; Max Christie</td>\n",
       "      <td>Jazz: Jalen Hood-Schifino</td>\n",
       "      <td>NaN</td>\n",
       "      <td>NaN</td>\n",
       "    </tr>\n",
       "    <tr>\n",
       "      <th>Feb 2</th>\n",
       "      <td>2025</td>\n",
       "      <td>Spurs: De’Aaron Fox; Jordan McLaughlin</td>\n",
       "      <td>Kings: Zach LaVine; Sidy Cissoko</td>\n",
       "      <td>Bulls: Zach Collins; Kevin Huerter; Tre Jones</td>\n",
       "      <td>NaN</td>\n",
       "      <td>NaN</td>\n",
       "    </tr>\n",
       "    <tr>\n",
       "      <th>Feb 4</th>\n",
       "      <td>2025</td>\n",
       "      <td>Mavericks: Caleb Martin</td>\n",
       "      <td>76ers: Quentin Grimes</td>\n",
       "      <td>NaN</td>\n",
       "      <td>NaN</td>\n",
       "      <td>NaN</td>\n",
       "    </tr>\n",
       "    <tr>\n",
       "      <th>Feb 5</th>\n",
       "      <td>2025</td>\n",
       "      <td>Kings: Jonas Valančiūnas</td>\n",
       "      <td>Wizards: Sidy Cissoko</td>\n",
       "      <td>NaN</td>\n",
       "      <td>NaN</td>\n",
       "      <td>NaN</td>\n",
       "    </tr>\n",
       "    <tr>\n",
       "      <th>Feb 5</th>\n",
       "      <td>2025</td>\n",
       "      <td>Thunder: Daniel Theis</td>\n",
       "      <td>Pelicans: Draft Compensation</td>\n",
       "      <td>NaN</td>\n",
       "      <td>NaN</td>\n",
       "      <td>NaN</td>\n",
       "    </tr>\n",
       "    <tr>\n",
       "      <th>Feb 6</th>\n",
       "      <td>2025</td>\n",
       "      <td>Wizards: Marcus Smart; Colby Jones; Alex Len</td>\n",
       "      <td>Grizzlies: Marvin Bagley III; Johnny Davis</td>\n",
       "      <td>Kings: Jake LaRavia</td>\n",
       "      <td>NaN</td>\n",
       "      <td></td>\n",
       "    </tr>\n",
       "    <tr>\n",
       "      <th>Feb 6</th>\n",
       "      <td>2025</td>\n",
       "      <td>Raptors: Brandon Ingram</td>\n",
       "      <td>Pelicans: Bruce Brown; Kelly Olynyk</td>\n",
       "      <td>NaN</td>\n",
       "      <td>NaN</td>\n",
       "      <td>NaN</td>\n",
       "    </tr>\n",
       "    <tr>\n",
       "      <th>Feb 6</th>\n",
       "      <td>2025</td>\n",
       "      <td>Warriors: Jimmy Butler</td>\n",
       "      <td>Heat: Andrew Wiggins; Kyle Anderson</td>\n",
       "      <td>Jazz: Josh Richardson; KJ Martin</td>\n",
       "      <td>Pistons: Dennis Schröder; Lindy Waters III</td>\n",
       "      <td>NaN</td>\n",
       "    </tr>\n",
       "    <tr>\n",
       "      <th>Feb 6</th>\n",
       "      <td>2025</td>\n",
       "      <td>Raptors: P.J. Tucker</td>\n",
       "      <td>Heat: Davion Mitchell</td>\n",
       "      <td>NaN</td>\n",
       "      <td>NaN</td>\n",
       "      <td>NaN</td>\n",
       "    </tr>\n",
       "    <tr>\n",
       "      <th>Feb 6</th>\n",
       "      <td>2025</td>\n",
       "      <td>Cavaliers: De’Andre Hunter</td>\n",
       "      <td>Hawks: Caris LeVert; Georges Niang</td>\n",
       "      <td>NaN</td>\n",
       "      <td>NaN</td>\n",
       "      <td>NaN</td>\n",
       "    </tr>\n",
       "    <tr>\n",
       "      <th>Feb 6</th>\n",
       "      <td>2025</td>\n",
       "      <td>Lakers: Mark Williams</td>\n",
       "      <td>Hornets: Dalton Knecht; Cam Reddish</td>\n",
       "      <td>NaN</td>\n",
       "      <td>NaN</td>\n",
       "      <td>NaN</td>\n",
       "    </tr>\n",
       "    <tr>\n",
       "      <th>Feb 6</th>\n",
       "      <td>2025</td>\n",
       "      <td>Bucks: Kyle Kuzma; Jericho Sims</td>\n",
       "      <td>Wizards: Khris Middleton; AJ Johnson</td>\n",
       "      <td>Knicks: Delon Wright</td>\n",
       "      <td>Spurs: Patrick Baldwin Jr.</td>\n",
       "      <td>NaN</td>\n",
       "    </tr>\n",
       "    <tr>\n",
       "      <th>Feb 6</th>\n",
       "      <td>2025</td>\n",
       "      <td>Clippers: Bogdan Bogdanović</td>\n",
       "      <td>Hawks: Terance Mann; Bones Hyland</td>\n",
       "      <td>NaN</td>\n",
       "      <td>NaN</td>\n",
       "      <td>NaN</td>\n",
       "    </tr>\n",
       "    <tr>\n",
       "      <th>Feb 6</th>\n",
       "      <td>2025</td>\n",
       "      <td>Bucks: Kevin Porter Jr.</td>\n",
       "      <td>Clippers: MarJon Beauchamp</td>\n",
       "      <td>NaN</td>\n",
       "      <td>NaN</td>\n",
       "      <td>NaN</td>\n",
       "    </tr>\n",
       "    <tr>\n",
       "      <th>Feb 6</th>\n",
       "      <td>2025</td>\n",
       "      <td>Hornets: Jusuf Nurkić</td>\n",
       "      <td>Suns: Cody Martin; Vasilije Micić</td>\n",
       "      <td>NaN</td>\n",
       "      <td>NaN</td>\n",
       "      <td>NaN</td>\n",
       "    </tr>\n",
       "    <tr>\n",
       "      <th>Feb 6</th>\n",
       "      <td>2025</td>\n",
       "      <td>Wizards: Reggie Jackson</td>\n",
       "      <td>76ers: Jared Butler</td>\n",
       "      <td>NaN</td>\n",
       "      <td>NaN</td>\n",
       "      <td>NaN</td>\n",
       "    </tr>\n",
       "    <tr>\n",
       "      <th>Feb 6</th>\n",
       "      <td>2025</td>\n",
       "      <td>Rockets: Cody Zeller</td>\n",
       "      <td>Hawks: Draft Compensation</td>\n",
       "      <td>NaN</td>\n",
       "      <td>NaN</td>\n",
       "      <td>NaN</td>\n",
       "    </tr>\n",
       "    <tr>\n",
       "      <th>Feb 6</th>\n",
       "      <td>2025</td>\n",
       "      <td>Rockets: Jaden Springer</td>\n",
       "      <td>Celtics: Draft Compensation</td>\n",
       "      <td>NaN</td>\n",
       "      <td>NaN</td>\n",
       "      <td>NaN</td>\n",
       "    </tr>\n",
       "  </tbody>\n",
       "</table>\n",
       "</div>"
      ],
      "text/plain": [
       "        Date                                              Team1  \\\n",
       "Dec 15  2024                          Warriors: Dennis Schröder   \n",
       "Dec 15  2024                              Pacers: Thomas Bryant   \n",
       "Dec 29  2024          Lakers: Dorian Finney-Smith; Shake Milton   \n",
       "Jan 15  2025                                Suns: Nick Richards   \n",
       "Feb 1   2025                Clippers: Drew Eubanks; Patty Mills   \n",
       "Feb 2   2025  Lakers: Luka Dončić; Maxi Kleber; Markieff Morris   \n",
       "Feb 2   2025             Spurs: De’Aaron Fox; Jordan McLaughlin   \n",
       "Feb 4   2025                            Mavericks: Caleb Martin   \n",
       "Feb 5   2025                           Kings: Jonas Valančiūnas   \n",
       "Feb 5   2025                              Thunder: Daniel Theis   \n",
       "Feb 6   2025       Wizards: Marcus Smart; Colby Jones; Alex Len   \n",
       "Feb 6   2025                            Raptors: Brandon Ingram   \n",
       "Feb 6   2025                             Warriors: Jimmy Butler   \n",
       "Feb 6   2025                               Raptors: P.J. Tucker   \n",
       "Feb 6   2025                         Cavaliers: De’Andre Hunter   \n",
       "Feb 6   2025                              Lakers: Mark Williams   \n",
       "Feb 6   2025                    Bucks: Kyle Kuzma; Jericho Sims   \n",
       "Feb 6   2025                        Clippers: Bogdan Bogdanović   \n",
       "Feb 6   2025                            Bucks: Kevin Porter Jr.   \n",
       "Feb 6   2025                              Hornets: Jusuf Nurkić   \n",
       "Feb 6   2025                            Wizards: Reggie Jackson   \n",
       "Feb 6   2025                               Rockets: Cody Zeller   \n",
       "Feb 6   2025                            Rockets: Jaden Springer   \n",
       "\n",
       "                                             Team2  \\\n",
       "Dec 15      Nets: De’Anthony Melton; Reece Beekman   \n",
       "Dec 15                    Heat: Draft Compensation   \n",
       "Dec 29       Nets: D’Angelo Russell; Maxwell Lewis   \n",
       "Jan 15                        Hornets: Josh Okogie   \n",
       "Feb 1                  Jazz: Mo Bamba; P.J. Tucker   \n",
       "Feb 2       Mavericks: Anthony Davis; Max Christie   \n",
       "Feb 2             Kings: Zach LaVine; Sidy Cissoko   \n",
       "Feb 4                        76ers: Quentin Grimes   \n",
       "Feb 5                        Wizards: Sidy Cissoko   \n",
       "Feb 5                 Pelicans: Draft Compensation   \n",
       "Feb 6   Grizzlies: Marvin Bagley III; Johnny Davis   \n",
       "Feb 6          Pelicans: Bruce Brown; Kelly Olynyk   \n",
       "Feb 6          Heat: Andrew Wiggins; Kyle Anderson   \n",
       "Feb 6                        Heat: Davion Mitchell   \n",
       "Feb 6           Hawks: Caris LeVert; Georges Niang   \n",
       "Feb 6          Hornets: Dalton Knecht; Cam Reddish   \n",
       "Feb 6         Wizards: Khris Middleton; AJ Johnson   \n",
       "Feb 6            Hawks: Terance Mann; Bones Hyland   \n",
       "Feb 6                   Clippers: MarJon Beauchamp   \n",
       "Feb 6            Suns: Cody Martin; Vasilije Micić   \n",
       "Feb 6                          76ers: Jared Butler   \n",
       "Feb 6                    Hawks: Draft Compensation   \n",
       "Feb 6                  Celtics: Draft Compensation   \n",
       "\n",
       "                                                Team3  \\\n",
       "Dec 15                                            NaN   \n",
       "Dec 15                                            NaN   \n",
       "Dec 29                                            NaN   \n",
       "Jan 15                                            NaN   \n",
       "Feb 1                                             NaN   \n",
       "Feb 2                       Jazz: Jalen Hood-Schifino   \n",
       "Feb 2   Bulls: Zach Collins; Kevin Huerter; Tre Jones   \n",
       "Feb 4                                             NaN   \n",
       "Feb 5                                             NaN   \n",
       "Feb 5                                             NaN   \n",
       "Feb 6                             Kings: Jake LaRavia   \n",
       "Feb 6                                             NaN   \n",
       "Feb 6                Jazz: Josh Richardson; KJ Martin   \n",
       "Feb 6                                             NaN   \n",
       "Feb 6                                             NaN   \n",
       "Feb 6                                             NaN   \n",
       "Feb 6                            Knicks: Delon Wright   \n",
       "Feb 6                                             NaN   \n",
       "Feb 6                                             NaN   \n",
       "Feb 6                                             NaN   \n",
       "Feb 6                                             NaN   \n",
       "Feb 6                                             NaN   \n",
       "Feb 6                                             NaN   \n",
       "\n",
       "                                             Team4 Team5  \n",
       "Dec 15                                         NaN   NaN  \n",
       "Dec 15                                         NaN   NaN  \n",
       "Dec 29                                         NaN   NaN  \n",
       "Jan 15                                         NaN   NaN  \n",
       "Feb 1                                          NaN   NaN  \n",
       "Feb 2                                          NaN   NaN  \n",
       "Feb 2                                          NaN   NaN  \n",
       "Feb 4                                          NaN   NaN  \n",
       "Feb 5                                          NaN   NaN  \n",
       "Feb 5                                          NaN   NaN  \n",
       "Feb 6                                          NaN        \n",
       "Feb 6                                          NaN   NaN  \n",
       "Feb 6   Pistons: Dennis Schröder; Lindy Waters III   NaN  \n",
       "Feb 6                                          NaN   NaN  \n",
       "Feb 6                                          NaN   NaN  \n",
       "Feb 6                                          NaN   NaN  \n",
       "Feb 6                   Spurs: Patrick Baldwin Jr.   NaN  \n",
       "Feb 6                                          NaN   NaN  \n",
       "Feb 6                                          NaN   NaN  \n",
       "Feb 6                                          NaN   NaN  \n",
       "Feb 6                                          NaN   NaN  \n",
       "Feb 6                                          NaN   NaN  \n",
       "Feb 6                                          NaN   NaN  "
      ]
     },
     "execution_count": 2,
     "metadata": {},
     "output_type": "execute_result"
    }
   ],
   "source": [
    "trades = pd.read_csv(\"trades.csv\")\n",
    "trades"
   ]
  },
  {
   "cell_type": "markdown",
   "id": "71cbec54",
   "metadata": {},
   "source": [
    "I'm going to create a directed graph where each node is a team and each edge represents a trade between two teams. I'm going to use the 3D layout from Plotly to visualize the graph. The idea here is to get a sense of all the movement across the league. This will not include trade compensation that does not involve a player."
   ]
  },
  {
   "cell_type": "code",
   "execution_count": 5,
   "id": "f7a6f9cd",
   "metadata": {},
   "outputs": [],
   "source": [
    "# Create a directed graph\n",
    "G = nx.DiGraph()\n",
    "\n",
    "# Process each row in the trades dataframe\n",
    "for _, row in trades.iterrows():\n",
    "    # Get all valid team entries for this trade\n",
    "    trade_teams = []\n",
    "    trade_details = {}\n",
    "    \n",
    "    # First collect all valid team:players pairs\n",
    "    for i in range(1, 6):\n",
    "        team_col = f'Team{i}'\n",
    "        if pd.notna(row[team_col]) and ':' in row[team_col]:\n",
    "            parts = row[team_col].split(':')\n",
    "            if len(parts) >= 2:\n",
    "                team = parts[0].strip()\n",
    "                players = parts[1].strip()\n",
    "                trade_teams.append(team)\n",
    "                trade_details[team] = players\n",
    "    \n",
    "    # Now create edges between all teams involved in this trade\n",
    "    for i, team1 in enumerate(trade_teams):\n",
    "        for team2 in trade_teams[i+1:]:\n",
    "            # Add edge in both directions to represent the trade\n",
    "            G.add_edge(team1, team2, \n",
    "                      team1_players=trade_details[team1],\n",
    "                      team2_players=trade_details[team2],\n",
    "                      date=row['Date'])\n",
    "            G.add_edge(team2, team1,\n",
    "                      team1_players=trade_details[team2],\n",
    "                      team2_players=trade_details[team1],\n",
    "                      date=row['Date'])\n",
    "\n",
    "# Create 3D positions for nodes\n",
    "pos = nx.spring_layout(G, dim=3, k=1/np.sqrt(len(G.nodes())), iterations=50)\n",
    "\n",
    "# Extract node positions\n",
    "node_x = [pos[node][0] for node in G.nodes()]\n",
    "node_y = [pos[node][1] for node in G.nodes()]\n",
    "node_z = [pos[node][2] for node in G.nodes()]\n",
    "\n",
    "# Create edges\n",
    "edge_x = []\n",
    "edge_y = []\n",
    "edge_z = []\n",
    "edge_text = []\n",
    "\n",
    "for edge in G.edges(data=True):\n",
    "    x0, y0, z0 = pos[edge[0]]\n",
    "    x1, y1, z1 = pos[edge[1]]\n",
    "    \n",
    "    # Add line coordinates\n",
    "    edge_x.extend([x0, x1, None])\n",
    "    edge_y.extend([y0, y1, None])\n",
    "    edge_z.extend([z0, z1, None])\n",
    "    \n",
    "    # Enhanced hover text with players from both teams\n",
    "    hover_text = (\n",
    "        f\"<b>{edge[0]} ↔ {edge[1]}</b><br><br>\"\n",
    "        f\"<b>{edge[0]} sent:</b><br>\"\n",
    "        f\"• {edge[2]['team1_players'].replace(';', '<br>• ')}<br><br>\"\n",
    "        f\"<b>{edge[1]} sent:</b><br>\"\n",
    "        f\"• {edge[2]['team2_players'].replace(';', '<br>• ')}<br><br>\"\n",
    "        f\"<i>Date: {edge[2]['date']}</i>\"\n",
    "    )\n",
    "    edge_text.extend([hover_text, \"\", \"\"])"
   ]
  },
  {
   "cell_type": "markdown",
   "id": "074fe240",
   "metadata": {},
   "source": [
    "Here's a scatter 3D plot where the teams are represented as nodes and the moved players are represented as lines between the nodes. It's meant to be the net movement, not representation of the actual trade on an individual basis."
   ]
  },
  {
   "cell_type": "code",
   "execution_count": 4,
   "id": "ae5b322d",
   "metadata": {},
   "outputs": [],
   "source": [
    "# Create edge trace\n",
    "edge_trace = go.Scatter3d(\n",
    "    x=edge_x, y=edge_y, z=edge_z,\n",
    "    line=dict(width=1.5, color='#888'),\n",
    "    hoverinfo='text',\n",
    "    text=edge_text,\n",
    "    mode='lines',\n",
    "    hoverlabel=dict(\n",
    "        bgcolor='white',\n",
    "        font_size=14,\n",
    "        font_family=\"Arial\"\n",
    "    )\n",
    ")\n",
    "\n",
    "# Create node trace\n",
    "node_trace = go.Scatter3d(\n",
    "    x=node_x, y=node_y, z=node_z,\n",
    "    mode='markers+text',\n",
    "    hoverinfo='text',\n",
    "    text=list(G.nodes()),\n",
    "    textposition=\"top center\",\n",
    "    marker=dict(\n",
    "        size=10,\n",
    "        color='#1f77b4',\n",
    "        line=dict(width=2, color='#ffffff')\n",
    "    ),\n",
    "    hoverlabel=dict(\n",
    "        bgcolor='lightblue',\n",
    "        font_size=14,\n",
    "        font_family=\"Arial\"\n",
    "    )\n",
    ")\n",
    "\n",
    "# Create the figure\n",
    "fig = go.Figure(data=[edge_trace, node_trace])"
   ]
  },
  {
   "cell_type": "code",
   "execution_count": 14,
   "id": "c469b8ea",
   "metadata": {},
   "outputs": [
    {
     "data": {
      "application/vnd.plotly.v1+json": {
       "config": {
        "plotlyServerURL": "https://plot.ly"
       },
       "data": [
        {
         "hoverinfo": "text",
         "hoverlabel": {
          "bgcolor": "white",
          "font": {
           "family": "Arial",
           "size": 14
          }
         },
         "line": {
          "color": "#888",
          "width": 1.5
         },
         "mode": "lines",
         "text": [
          "<b>Warriors ↔ Nets</b><br><br><b>Warriors sent:</b><br>• Dennis Schröder<br><br><b>Nets sent:</b><br>• De’Anthony Melton<br>•  Reece Beekman<br><br><i>Date: 2024</i>",
          "",
          "",
          "<b>Warriors ↔ Heat</b><br><br><b>Warriors sent:</b><br>• Jimmy Butler<br><br><b>Heat sent:</b><br>• Andrew Wiggins<br>•  Kyle Anderson<br><br><i>Date: 2025</i>",
          "",
          "",
          "<b>Warriors ↔ Jazz</b><br><br><b>Warriors sent:</b><br>• Jimmy Butler<br><br><b>Jazz sent:</b><br>• Josh Richardson<br>•  KJ Martin<br><br><i>Date: 2025</i>",
          "",
          "",
          "<b>Warriors ↔ Pistons</b><br><br><b>Warriors sent:</b><br>• Jimmy Butler<br><br><b>Pistons sent:</b><br>• Dennis Schröder<br>•  Lindy Waters III<br><br><i>Date: 2025</i>",
          "",
          "",
          "<b>Nets ↔ Warriors</b><br><br><b>Nets sent:</b><br>• De’Anthony Melton<br>•  Reece Beekman<br><br><b>Warriors sent:</b><br>• Dennis Schröder<br><br><i>Date: 2024</i>",
          "",
          "",
          "<b>Nets ↔ Lakers</b><br><br><b>Nets sent:</b><br>• D’Angelo Russell<br>•  Maxwell Lewis<br><br><b>Lakers sent:</b><br>• Dorian Finney-Smith<br>•  Shake Milton<br><br><i>Date: 2024</i>",
          "",
          "",
          "<b>Pacers ↔ Heat</b><br><br><b>Pacers sent:</b><br>• Thomas Bryant<br><br><b>Heat sent:</b><br>• Draft Compensation<br><br><i>Date: 2024</i>",
          "",
          "",
          "<b>Heat ↔ Pacers</b><br><br><b>Heat sent:</b><br>• Draft Compensation<br><br><b>Pacers sent:</b><br>• Thomas Bryant<br><br><i>Date: 2024</i>",
          "",
          "",
          "<b>Heat ↔ Warriors</b><br><br><b>Heat sent:</b><br>• Andrew Wiggins<br>•  Kyle Anderson<br><br><b>Warriors sent:</b><br>• Jimmy Butler<br><br><i>Date: 2025</i>",
          "",
          "",
          "<b>Heat ↔ Jazz</b><br><br><b>Heat sent:</b><br>• Andrew Wiggins<br>•  Kyle Anderson<br><br><b>Jazz sent:</b><br>• Josh Richardson<br>•  KJ Martin<br><br><i>Date: 2025</i>",
          "",
          "",
          "<b>Heat ↔ Pistons</b><br><br><b>Heat sent:</b><br>• Andrew Wiggins<br>•  Kyle Anderson<br><br><b>Pistons sent:</b><br>• Dennis Schröder<br>•  Lindy Waters III<br><br><i>Date: 2025</i>",
          "",
          "",
          "<b>Heat ↔ Raptors</b><br><br><b>Heat sent:</b><br>• Davion Mitchell<br><br><b>Raptors sent:</b><br>• P.J. Tucker<br><br><i>Date: 2025</i>",
          "",
          "",
          "<b>Lakers ↔ Nets</b><br><br><b>Lakers sent:</b><br>• Dorian Finney-Smith<br>•  Shake Milton<br><br><b>Nets sent:</b><br>• D’Angelo Russell<br>•  Maxwell Lewis<br><br><i>Date: 2024</i>",
          "",
          "",
          "<b>Lakers ↔ Mavericks</b><br><br><b>Lakers sent:</b><br>• Luka Dončić<br>•  Maxi Kleber<br>•  Markieff Morris<br><br><b>Mavericks sent:</b><br>• Anthony Davis<br>•  Max Christie<br><br><i>Date: 2025</i>",
          "",
          "",
          "<b>Lakers ↔ Jazz</b><br><br><b>Lakers sent:</b><br>• Luka Dončić<br>•  Maxi Kleber<br>•  Markieff Morris<br><br><b>Jazz sent:</b><br>• Jalen Hood-Schifino<br><br><i>Date: 2025</i>",
          "",
          "",
          "<b>Lakers ↔ Hornets</b><br><br><b>Lakers sent:</b><br>• Mark Williams<br><br><b>Hornets sent:</b><br>• Dalton Knecht<br>•  Cam Reddish<br><br><i>Date: 2025</i>",
          "",
          "",
          "<b>Suns ↔ Hornets</b><br><br><b>Suns sent:</b><br>• Cody Martin<br>•  Vasilije Micić<br><br><b>Hornets sent:</b><br>• Jusuf Nurkić<br><br><i>Date: 2025</i>",
          "",
          "",
          "<b>Hornets ↔ Suns</b><br><br><b>Hornets sent:</b><br>• Jusuf Nurkić<br><br><b>Suns sent:</b><br>• Cody Martin<br>•  Vasilije Micić<br><br><i>Date: 2025</i>",
          "",
          "",
          "<b>Hornets ↔ Lakers</b><br><br><b>Hornets sent:</b><br>• Dalton Knecht<br>•  Cam Reddish<br><br><b>Lakers sent:</b><br>• Mark Williams<br><br><i>Date: 2025</i>",
          "",
          "",
          "<b>Clippers ↔ Jazz</b><br><br><b>Clippers sent:</b><br>• Drew Eubanks<br>•  Patty Mills<br><br><b>Jazz sent:</b><br>• Mo Bamba<br>•  P.J. Tucker<br><br><i>Date: 2025</i>",
          "",
          "",
          "<b>Clippers ↔ Hawks</b><br><br><b>Clippers sent:</b><br>• Bogdan Bogdanović<br><br><b>Hawks sent:</b><br>• Terance Mann<br>•  Bones Hyland<br><br><i>Date: 2025</i>",
          "",
          "",
          "<b>Clippers ↔ Bucks</b><br><br><b>Clippers sent:</b><br>• MarJon Beauchamp<br><br><b>Bucks sent:</b><br>• Kevin Porter Jr.<br><br><i>Date: 2025</i>",
          "",
          "",
          "<b>Jazz ↔ Clippers</b><br><br><b>Jazz sent:</b><br>• Mo Bamba<br>•  P.J. Tucker<br><br><b>Clippers sent:</b><br>• Drew Eubanks<br>•  Patty Mills<br><br><i>Date: 2025</i>",
          "",
          "",
          "<b>Jazz ↔ Lakers</b><br><br><b>Jazz sent:</b><br>• Jalen Hood-Schifino<br><br><b>Lakers sent:</b><br>• Luka Dončić<br>•  Maxi Kleber<br>•  Markieff Morris<br><br><i>Date: 2025</i>",
          "",
          "",
          "<b>Jazz ↔ Mavericks</b><br><br><b>Jazz sent:</b><br>• Jalen Hood-Schifino<br><br><b>Mavericks sent:</b><br>• Anthony Davis<br>•  Max Christie<br><br><i>Date: 2025</i>",
          "",
          "",
          "<b>Jazz ↔ Warriors</b><br><br><b>Jazz sent:</b><br>• Josh Richardson<br>•  KJ Martin<br><br><b>Warriors sent:</b><br>• Jimmy Butler<br><br><i>Date: 2025</i>",
          "",
          "",
          "<b>Jazz ↔ Heat</b><br><br><b>Jazz sent:</b><br>• Josh Richardson<br>•  KJ Martin<br><br><b>Heat sent:</b><br>• Andrew Wiggins<br>•  Kyle Anderson<br><br><i>Date: 2025</i>",
          "",
          "",
          "<b>Jazz ↔ Pistons</b><br><br><b>Jazz sent:</b><br>• Josh Richardson<br>•  KJ Martin<br><br><b>Pistons sent:</b><br>• Dennis Schröder<br>•  Lindy Waters III<br><br><i>Date: 2025</i>",
          "",
          "",
          "<b>Mavericks ↔ Lakers</b><br><br><b>Mavericks sent:</b><br>• Anthony Davis<br>•  Max Christie<br><br><b>Lakers sent:</b><br>• Luka Dončić<br>•  Maxi Kleber<br>•  Markieff Morris<br><br><i>Date: 2025</i>",
          "",
          "",
          "<b>Mavericks ↔ Jazz</b><br><br><b>Mavericks sent:</b><br>• Anthony Davis<br>•  Max Christie<br><br><b>Jazz sent:</b><br>• Jalen Hood-Schifino<br><br><i>Date: 2025</i>",
          "",
          "",
          "<b>Mavericks ↔ 76ers</b><br><br><b>Mavericks sent:</b><br>• Caleb Martin<br><br><b>76ers sent:</b><br>• Quentin Grimes<br><br><i>Date: 2025</i>",
          "",
          "",
          "<b>Spurs ↔ Kings</b><br><br><b>Spurs sent:</b><br>• De’Aaron Fox<br>•  Jordan McLaughlin<br><br><b>Kings sent:</b><br>• Zach LaVine<br>•  Sidy Cissoko<br><br><i>Date: 2025</i>",
          "",
          "",
          "<b>Spurs ↔ Bulls</b><br><br><b>Spurs sent:</b><br>• De’Aaron Fox<br>•  Jordan McLaughlin<br><br><b>Bulls sent:</b><br>• Zach Collins<br>•  Kevin Huerter<br>•  Tre Jones<br><br><i>Date: 2025</i>",
          "",
          "",
          "<b>Spurs ↔ Bucks</b><br><br><b>Spurs sent:</b><br>• Patrick Baldwin Jr.<br><br><b>Bucks sent:</b><br>• Kyle Kuzma<br>•  Jericho Sims<br><br><i>Date: 2025</i>",
          "",
          "",
          "<b>Spurs ↔ Wizards</b><br><br><b>Spurs sent:</b><br>• Patrick Baldwin Jr.<br><br><b>Wizards sent:</b><br>• Khris Middleton<br>•  AJ Johnson<br><br><i>Date: 2025</i>",
          "",
          "",
          "<b>Spurs ↔ Knicks</b><br><br><b>Spurs sent:</b><br>• Patrick Baldwin Jr.<br><br><b>Knicks sent:</b><br>• Delon Wright<br><br><i>Date: 2025</i>",
          "",
          "",
          "<b>Kings ↔ Spurs</b><br><br><b>Kings sent:</b><br>• Zach LaVine<br>•  Sidy Cissoko<br><br><b>Spurs sent:</b><br>• De’Aaron Fox<br>•  Jordan McLaughlin<br><br><i>Date: 2025</i>",
          "",
          "",
          "<b>Kings ↔ Bulls</b><br><br><b>Kings sent:</b><br>• Zach LaVine<br>•  Sidy Cissoko<br><br><b>Bulls sent:</b><br>• Zach Collins<br>•  Kevin Huerter<br>•  Tre Jones<br><br><i>Date: 2025</i>",
          "",
          "",
          "<b>Kings ↔ Wizards</b><br><br><b>Kings sent:</b><br>• Jake LaRavia<br><br><b>Wizards sent:</b><br>• Marcus Smart<br>•  Colby Jones<br>•  Alex Len<br><br><i>Date: 2025</i>",
          "",
          "",
          "<b>Kings ↔ Grizzlies</b><br><br><b>Kings sent:</b><br>• Jake LaRavia<br><br><b>Grizzlies sent:</b><br>• Marvin Bagley III<br>•  Johnny Davis<br><br><i>Date: 2025</i>",
          "",
          "",
          "<b>Bulls ↔ Spurs</b><br><br><b>Bulls sent:</b><br>• Zach Collins<br>•  Kevin Huerter<br>•  Tre Jones<br><br><b>Spurs sent:</b><br>• De’Aaron Fox<br>•  Jordan McLaughlin<br><br><i>Date: 2025</i>",
          "",
          "",
          "<b>Bulls ↔ Kings</b><br><br><b>Bulls sent:</b><br>• Zach Collins<br>•  Kevin Huerter<br>•  Tre Jones<br><br><b>Kings sent:</b><br>• Zach LaVine<br>•  Sidy Cissoko<br><br><i>Date: 2025</i>",
          "",
          "",
          "<b>76ers ↔ Mavericks</b><br><br><b>76ers sent:</b><br>• Quentin Grimes<br><br><b>Mavericks sent:</b><br>• Caleb Martin<br><br><i>Date: 2025</i>",
          "",
          "",
          "<b>76ers ↔ Wizards</b><br><br><b>76ers sent:</b><br>• Jared Butler<br><br><b>Wizards sent:</b><br>• Reggie Jackson<br><br><i>Date: 2025</i>",
          "",
          "",
          "<b>Wizards ↔ Kings</b><br><br><b>Wizards sent:</b><br>• Marcus Smart<br>•  Colby Jones<br>•  Alex Len<br><br><b>Kings sent:</b><br>• Jake LaRavia<br><br><i>Date: 2025</i>",
          "",
          "",
          "<b>Wizards ↔ Grizzlies</b><br><br><b>Wizards sent:</b><br>• Marcus Smart<br>•  Colby Jones<br>•  Alex Len<br><br><b>Grizzlies sent:</b><br>• Marvin Bagley III<br>•  Johnny Davis<br><br><i>Date: 2025</i>",
          "",
          "",
          "<b>Wizards ↔ Bucks</b><br><br><b>Wizards sent:</b><br>• Khris Middleton<br>•  AJ Johnson<br><br><b>Bucks sent:</b><br>• Kyle Kuzma<br>•  Jericho Sims<br><br><i>Date: 2025</i>",
          "",
          "",
          "<b>Wizards ↔ Knicks</b><br><br><b>Wizards sent:</b><br>• Khris Middleton<br>•  AJ Johnson<br><br><b>Knicks sent:</b><br>• Delon Wright<br><br><i>Date: 2025</i>",
          "",
          "",
          "<b>Wizards ↔ Spurs</b><br><br><b>Wizards sent:</b><br>• Khris Middleton<br>•  AJ Johnson<br><br><b>Spurs sent:</b><br>• Patrick Baldwin Jr.<br><br><i>Date: 2025</i>",
          "",
          "",
          "<b>Wizards ↔ 76ers</b><br><br><b>Wizards sent:</b><br>• Reggie Jackson<br><br><b>76ers sent:</b><br>• Jared Butler<br><br><i>Date: 2025</i>",
          "",
          "",
          "<b>Thunder ↔ Pelicans</b><br><br><b>Thunder sent:</b><br>• Daniel Theis<br><br><b>Pelicans sent:</b><br>• Draft Compensation<br><br><i>Date: 2025</i>",
          "",
          "",
          "<b>Pelicans ↔ Thunder</b><br><br><b>Pelicans sent:</b><br>• Draft Compensation<br><br><b>Thunder sent:</b><br>• Daniel Theis<br><br><i>Date: 2025</i>",
          "",
          "",
          "<b>Pelicans ↔ Raptors</b><br><br><b>Pelicans sent:</b><br>• Bruce Brown<br>•  Kelly Olynyk<br><br><b>Raptors sent:</b><br>• Brandon Ingram<br><br><i>Date: 2025</i>",
          "",
          "",
          "<b>Grizzlies ↔ Wizards</b><br><br><b>Grizzlies sent:</b><br>• Marvin Bagley III<br>•  Johnny Davis<br><br><b>Wizards sent:</b><br>• Marcus Smart<br>•  Colby Jones<br>•  Alex Len<br><br><i>Date: 2025</i>",
          "",
          "",
          "<b>Grizzlies ↔ Kings</b><br><br><b>Grizzlies sent:</b><br>• Marvin Bagley III<br>•  Johnny Davis<br><br><b>Kings sent:</b><br>• Jake LaRavia<br><br><i>Date: 2025</i>",
          "",
          "",
          "<b>Raptors ↔ Pelicans</b><br><br><b>Raptors sent:</b><br>• Brandon Ingram<br><br><b>Pelicans sent:</b><br>• Bruce Brown<br>•  Kelly Olynyk<br><br><i>Date: 2025</i>",
          "",
          "",
          "<b>Raptors ↔ Heat</b><br><br><b>Raptors sent:</b><br>• P.J. Tucker<br><br><b>Heat sent:</b><br>• Davion Mitchell<br><br><i>Date: 2025</i>",
          "",
          "",
          "<b>Pistons ↔ Warriors</b><br><br><b>Pistons sent:</b><br>• Dennis Schröder<br>•  Lindy Waters III<br><br><b>Warriors sent:</b><br>• Jimmy Butler<br><br><i>Date: 2025</i>",
          "",
          "",
          "<b>Pistons ↔ Heat</b><br><br><b>Pistons sent:</b><br>• Dennis Schröder<br>•  Lindy Waters III<br><br><b>Heat sent:</b><br>• Andrew Wiggins<br>•  Kyle Anderson<br><br><i>Date: 2025</i>",
          "",
          "",
          "<b>Pistons ↔ Jazz</b><br><br><b>Pistons sent:</b><br>• Dennis Schröder<br>•  Lindy Waters III<br><br><b>Jazz sent:</b><br>• Josh Richardson<br>•  KJ Martin<br><br><i>Date: 2025</i>",
          "",
          "",
          "<b>Cavaliers ↔ Hawks</b><br><br><b>Cavaliers sent:</b><br>• De’Andre Hunter<br><br><b>Hawks sent:</b><br>• Caris LeVert<br>•  Georges Niang<br><br><i>Date: 2025</i>",
          "",
          "",
          "<b>Hawks ↔ Cavaliers</b><br><br><b>Hawks sent:</b><br>• Caris LeVert<br>•  Georges Niang<br><br><b>Cavaliers sent:</b><br>• De’Andre Hunter<br><br><i>Date: 2025</i>",
          "",
          "",
          "<b>Hawks ↔ Clippers</b><br><br><b>Hawks sent:</b><br>• Terance Mann<br>•  Bones Hyland<br><br><b>Clippers sent:</b><br>• Bogdan Bogdanović<br><br><i>Date: 2025</i>",
          "",
          "",
          "<b>Hawks ↔ Rockets</b><br><br><b>Hawks sent:</b><br>• Draft Compensation<br><br><b>Rockets sent:</b><br>• Cody Zeller<br><br><i>Date: 2025</i>",
          "",
          "",
          "<b>Bucks ↔ Wizards</b><br><br><b>Bucks sent:</b><br>• Kyle Kuzma<br>•  Jericho Sims<br><br><b>Wizards sent:</b><br>• Khris Middleton<br>•  AJ Johnson<br><br><i>Date: 2025</i>",
          "",
          "",
          "<b>Bucks ↔ Knicks</b><br><br><b>Bucks sent:</b><br>• Kyle Kuzma<br>•  Jericho Sims<br><br><b>Knicks sent:</b><br>• Delon Wright<br><br><i>Date: 2025</i>",
          "",
          "",
          "<b>Bucks ↔ Spurs</b><br><br><b>Bucks sent:</b><br>• Kyle Kuzma<br>•  Jericho Sims<br><br><b>Spurs sent:</b><br>• Patrick Baldwin Jr.<br><br><i>Date: 2025</i>",
          "",
          "",
          "<b>Bucks ↔ Clippers</b><br><br><b>Bucks sent:</b><br>• Kevin Porter Jr.<br><br><b>Clippers sent:</b><br>• MarJon Beauchamp<br><br><i>Date: 2025</i>",
          "",
          "",
          "<b>Knicks ↔ Bucks</b><br><br><b>Knicks sent:</b><br>• Delon Wright<br><br><b>Bucks sent:</b><br>• Kyle Kuzma<br>•  Jericho Sims<br><br><i>Date: 2025</i>",
          "",
          "",
          "<b>Knicks ↔ Wizards</b><br><br><b>Knicks sent:</b><br>• Delon Wright<br><br><b>Wizards sent:</b><br>• Khris Middleton<br>•  AJ Johnson<br><br><i>Date: 2025</i>",
          "",
          "",
          "<b>Knicks ↔ Spurs</b><br><br><b>Knicks sent:</b><br>• Delon Wright<br><br><b>Spurs sent:</b><br>• Patrick Baldwin Jr.<br><br><i>Date: 2025</i>",
          "",
          "",
          "<b>Rockets ↔ Hawks</b><br><br><b>Rockets sent:</b><br>• Cody Zeller<br><br><b>Hawks sent:</b><br>• Draft Compensation<br><br><i>Date: 2025</i>",
          "",
          "",
          "<b>Rockets ↔ Celtics</b><br><br><b>Rockets sent:</b><br>• Jaden Springer<br><br><b>Celtics sent:</b><br>• Draft Compensation<br><br><i>Date: 2025</i>",
          "",
          "",
          "<b>Celtics ↔ Rockets</b><br><br><b>Celtics sent:</b><br>• Draft Compensation<br><br><b>Rockets sent:</b><br>• Jaden Springer<br><br><i>Date: 2025</i>",
          "",
          ""
         ],
         "type": "scatter3d",
         "x": [
          0.4814682070584142,
          0.5058863571364525,
          null,
          0.4814682070584142,
          0.5611099444441104,
          null,
          0.4814682070584142,
          0.23677193910947325,
          null,
          0.4814682070584142,
          0.421907584404031,
          null,
          0.5058863571364525,
          0.4814682070584142,
          null,
          0.5058863571364525,
          0.30222215927849905,
          null,
          0.7902154231365071,
          0.5611099444441104,
          null,
          0.5611099444441104,
          0.7902154231365071,
          null,
          0.5611099444441104,
          0.4814682070584142,
          null,
          0.5611099444441104,
          0.23677193910947325,
          null,
          0.5611099444441104,
          0.421907584404031,
          null,
          0.5611099444441104,
          0.7656701294786891,
          null,
          0.30222215927849905,
          0.5058863571364525,
          null,
          0.30222215927849905,
          0.04097804962869868,
          null,
          0.30222215927849905,
          0.23677193910947325,
          null,
          0.30222215927849905,
          0.47073158722974195,
          null,
          0.6059571520344895,
          0.47073158722974195,
          null,
          0.47073158722974195,
          0.6059571520344895,
          null,
          0.47073158722974195,
          0.30222215927849905,
          null,
          -0.20677471235766168,
          0.23677193910947325,
          null,
          -0.20677471235766168,
          -0.3380175437944323,
          null,
          -0.20677471235766168,
          -0.5287399657357096,
          null,
          0.23677193910947325,
          -0.20677471235766168,
          null,
          0.23677193910947325,
          0.30222215927849905,
          null,
          0.23677193910947325,
          0.04097804962869868,
          null,
          0.23677193910947325,
          0.4814682070584142,
          null,
          0.23677193910947325,
          0.5611099444441104,
          null,
          0.23677193910947325,
          0.421907584404031,
          null,
          0.04097804962869868,
          0.30222215927849905,
          null,
          0.04097804962869868,
          0.23677193910947325,
          null,
          0.04097804962869868,
          -0.2665875530078524,
          null,
          -0.762867227872265,
          -0.8043739912295241,
          null,
          -0.762867227872265,
          -0.9709736698537426,
          null,
          -0.762867227872265,
          -0.5287399657357096,
          null,
          -0.762867227872265,
          -0.5903596328042137,
          null,
          -0.762867227872265,
          -0.7023491234930955,
          null,
          -0.8043739912295241,
          -0.762867227872265,
          null,
          -0.8043739912295241,
          -0.9709736698537426,
          null,
          -0.8043739912295241,
          -0.5903596328042137,
          null,
          -0.8043739912295241,
          -0.7017852303471849,
          null,
          -0.9709736698537426,
          -0.762867227872265,
          null,
          -0.9709736698537426,
          -0.8043739912295241,
          null,
          -0.2665875530078524,
          0.04097804962869868,
          null,
          -0.2665875530078524,
          -0.5903596328042137,
          null,
          -0.5903596328042137,
          -0.8043739912295241,
          null,
          -0.5903596328042137,
          -0.7017852303471849,
          null,
          -0.5903596328042137,
          -0.5287399657357096,
          null,
          -0.5903596328042137,
          -0.7023491234930955,
          null,
          -0.5903596328042137,
          -0.762867227872265,
          null,
          -0.5903596328042137,
          -0.2665875530078524,
          null,
          1,
          0.9056703665050113,
          null,
          0.9056703665050113,
          1,
          null,
          0.9056703665050113,
          0.7656701294786891,
          null,
          -0.7017852303471849,
          -0.5903596328042137,
          null,
          -0.7017852303471849,
          -0.8043739912295241,
          null,
          0.7656701294786891,
          0.9056703665050113,
          null,
          0.7656701294786891,
          0.5611099444441104,
          null,
          0.421907584404031,
          0.4814682070584142,
          null,
          0.421907584404031,
          0.5611099444441104,
          null,
          0.421907584404031,
          0.23677193910947325,
          null,
          -0.5155914612513606,
          -0.3380175437944323,
          null,
          -0.3380175437944323,
          -0.5155914612513606,
          null,
          -0.3380175437944323,
          -0.20677471235766168,
          null,
          -0.3380175437944323,
          -0.34682875982009875,
          null,
          -0.5287399657357096,
          -0.5903596328042137,
          null,
          -0.5287399657357096,
          -0.7023491234930955,
          null,
          -0.5287399657357096,
          -0.762867227872265,
          null,
          -0.5287399657357096,
          -0.20677471235766168,
          null,
          -0.7023491234930955,
          -0.5287399657357096,
          null,
          -0.7023491234930955,
          -0.5903596328042137,
          null,
          -0.7023491234930955,
          -0.762867227872265,
          null,
          -0.34682875982009875,
          -0.3380175437944323,
          null,
          -0.34682875982009875,
          -0.3533400278769776,
          null,
          -0.3533400278769776,
          -0.34682875982009875,
          null
         ],
         "y": [
          0.05204648137105475,
          -0.08481151836284753,
          null,
          0.05204648137105475,
          0.15534882821632948,
          null,
          0.05204648137105475,
          0.0245129776681635,
          null,
          0.05204648137105475,
          0.1536429899952643,
          null,
          -0.08481151836284753,
          0.05204648137105475,
          null,
          -0.08481151836284753,
          -0.15810616648759837,
          null,
          0.26861230676365677,
          0.15534882821632948,
          null,
          0.15534882821632948,
          0.26861230676365677,
          null,
          0.15534882821632948,
          0.05204648137105475,
          null,
          0.15534882821632948,
          0.0245129776681635,
          null,
          0.15534882821632948,
          0.1536429899952643,
          null,
          0.15534882821632948,
          0.23689691024203613,
          null,
          -0.15810616648759837,
          -0.08481151836284753,
          null,
          -0.15810616648759837,
          0.013549448429663468,
          null,
          -0.15810616648759837,
          0.0245129776681635,
          null,
          -0.15810616648759837,
          -0.4098209798538373,
          null,
          -0.5951561845685056,
          -0.4098209798538373,
          null,
          -0.4098209798538373,
          -0.5951561845685056,
          null,
          -0.4098209798538373,
          -0.15810616648759837,
          null,
          -0.08511036796455296,
          0.0245129776681635,
          null,
          -0.08511036796455296,
          -0.35283255654136303,
          null,
          -0.08511036796455296,
          0.09351512536739065,
          null,
          0.0245129776681635,
          -0.08511036796455296,
          null,
          0.0245129776681635,
          -0.15810616648759837,
          null,
          0.0245129776681635,
          0.013549448429663468,
          null,
          0.0245129776681635,
          0.05204648137105475,
          null,
          0.0245129776681635,
          0.15534882821632948,
          null,
          0.0245129776681635,
          0.1536429899952643,
          null,
          0.013549448429663468,
          -0.15810616648759837,
          null,
          0.013549448429663468,
          0.0245129776681635,
          null,
          0.013549448429663468,
          0.15553977563031443,
          null,
          0.2075855158627803,
          0.32522586257792824,
          null,
          0.2075855158627803,
          0.27950205957942287,
          null,
          0.2075855158627803,
          0.09351512536739065,
          null,
          0.2075855158627803,
          0.2506937686880465,
          null,
          0.2075855158627803,
          0.17111708255749994,
          null,
          0.32522586257792824,
          0.2075855158627803,
          null,
          0.32522586257792824,
          0.27950205957942287,
          null,
          0.32522586257792824,
          0.2506937686880465,
          null,
          0.32522586257792824,
          0.4283827908477441,
          null,
          0.27950205957942287,
          0.2075855158627803,
          null,
          0.27950205957942287,
          0.32522586257792824,
          null,
          0.15553977563031443,
          0.013549448429663468,
          null,
          0.15553977563031443,
          0.2506937686880465,
          null,
          0.2506937686880465,
          0.32522586257792824,
          null,
          0.2506937686880465,
          0.4283827908477441,
          null,
          0.2506937686880465,
          0.09351512536739065,
          null,
          0.2506937686880465,
          0.17111708255749994,
          null,
          0.2506937686880465,
          0.2075855158627803,
          null,
          0.2506937686880465,
          0.15553977563031443,
          null,
          0.33988343292511664,
          0.29714485339956387,
          null,
          0.29714485339956387,
          0.33988343292511664,
          null,
          0.29714485339956387,
          0.23689691024203613,
          null,
          0.4283827908477441,
          0.2506937686880465,
          null,
          0.4283827908477441,
          0.32522586257792824,
          null,
          0.23689691024203613,
          0.29714485339956387,
          null,
          0.23689691024203613,
          0.15534882821632948,
          null,
          0.1536429899952643,
          0.05204648137105475,
          null,
          0.1536429899952643,
          0.15534882821632948,
          null,
          0.1536429899952643,
          0.0245129776681635,
          null,
          -0.4595401469158845,
          -0.35283255654136303,
          null,
          -0.35283255654136303,
          -0.4595401469158845,
          null,
          -0.35283255654136303,
          -0.08511036796455296,
          null,
          -0.35283255654136303,
          -0.5714406843914223,
          null,
          0.09351512536739065,
          0.2506937686880465,
          null,
          0.09351512536739065,
          0.17111708255749994,
          null,
          0.09351512536739065,
          0.2075855158627803,
          null,
          0.09351512536739065,
          -0.08511036796455296,
          null,
          0.17111708255749994,
          0.09351512536739065,
          null,
          0.17111708255749994,
          0.2506937686880465,
          null,
          0.17111708255749994,
          0.2075855158627803,
          null,
          -0.5714406843914223,
          -0.35283255654136303,
          null,
          -0.5714406843914223,
          -0.7363816050359642,
          null,
          -0.7363816050359642,
          -0.5714406843914223,
          null
         ],
         "z": [
          -0.043592717471321304,
          -0.20441275782196539,
          null,
          -0.043592717471321304,
          0.1412622774293386,
          null,
          -0.043592717471321304,
          -0.03982745184722336,
          null,
          -0.043592717471321304,
          0.025795200519399486,
          null,
          -0.20441275782196539,
          -0.043592717471321304,
          null,
          -0.20441275782196539,
          -0.1743688045608331,
          null,
          0.13402617381117607,
          0.1412622774293386,
          null,
          0.1412622774293386,
          0.13402617381117607,
          null,
          0.1412622774293386,
          -0.043592717471321304,
          null,
          0.1412622774293386,
          -0.03982745184722336,
          null,
          0.1412622774293386,
          0.025795200519399486,
          null,
          0.1412622774293386,
          0.43366967419616304,
          null,
          -0.1743688045608331,
          -0.20441275782196539,
          null,
          -0.1743688045608331,
          -0.02463995012292853,
          null,
          -0.1743688045608331,
          -0.03982745184722336,
          null,
          -0.1743688045608331,
          -0.3240388659344637,
          null,
          -0.43047255570264775,
          -0.3240388659344637,
          null,
          -0.3240388659344637,
          -0.43047255570264775,
          null,
          -0.3240388659344637,
          -0.1743688045608331,
          null,
          -0.16044987753842457,
          -0.03982745184722336,
          null,
          -0.16044987753842457,
          -0.4519166741708604,
          null,
          -0.16044987753842457,
          0.04407145606169892,
          null,
          -0.03982745184722336,
          -0.16044987753842457,
          null,
          -0.03982745184722336,
          -0.1743688045608331,
          null,
          -0.03982745184722336,
          -0.02463995012292853,
          null,
          -0.03982745184722336,
          -0.043592717471321304,
          null,
          -0.03982745184722336,
          0.1412622774293386,
          null,
          -0.03982745184722336,
          0.025795200519399486,
          null,
          -0.02463995012292853,
          -0.1743688045608331,
          null,
          -0.02463995012292853,
          -0.03982745184722336,
          null,
          -0.02463995012292853,
          0.11243284942263884,
          null,
          0.20746385818148796,
          0.32052433146917153,
          null,
          0.20746385818148796,
          0.3224440582991206,
          null,
          0.20746385818148796,
          0.04407145606169892,
          null,
          0.20746385818148796,
          0.2076697779377282,
          null,
          0.20746385818148796,
          0.08638152666699467,
          null,
          0.32052433146917153,
          0.20746385818148796,
          null,
          0.32052433146917153,
          0.3224440582991206,
          null,
          0.32052433146917153,
          0.2076697779377282,
          null,
          0.32052433146917153,
          0.3630022037376494,
          null,
          0.3224440582991206,
          0.20746385818148796,
          null,
          0.3224440582991206,
          0.32052433146917153,
          null,
          0.11243284942263884,
          -0.02463995012292853,
          null,
          0.11243284942263884,
          0.2076697779377282,
          null,
          0.2076697779377282,
          0.32052433146917153,
          null,
          0.2076697779377282,
          0.3630022037376494,
          null,
          0.2076697779377282,
          0.04407145606169892,
          null,
          0.2076697779377282,
          0.08638152666699467,
          null,
          0.2076697779377282,
          0.20746385818148796,
          null,
          0.2076697779377282,
          0.11243284942263884,
          null,
          0.8915046196726788,
          0.6886076903632341,
          null,
          0.6886076903632341,
          0.8915046196726788,
          null,
          0.6886076903632341,
          0.43366967419616304,
          null,
          0.3630022037376494,
          0.2076697779377282,
          null,
          0.3630022037376494,
          0.32052433146917153,
          null,
          0.43366967419616304,
          0.6886076903632341,
          null,
          0.43366967419616304,
          0.1412622774293386,
          null,
          0.025795200519399486,
          -0.043592717471321304,
          null,
          0.025795200519399486,
          0.1412622774293386,
          null,
          0.025795200519399486,
          -0.03982745184722336,
          null,
          -0.5562921482017644,
          -0.4519166741708604,
          null,
          -0.4519166741708604,
          -0.5562921482017644,
          null,
          -0.4519166741708604,
          -0.16044987753842457,
          null,
          -0.4519166741708604,
          -0.6938139271277921,
          null,
          0.04407145606169892,
          0.2076697779377282,
          null,
          0.04407145606169892,
          0.08638152666699467,
          null,
          0.04407145606169892,
          0.20746385818148796,
          null,
          0.04407145606169892,
          -0.16044987753842457,
          null,
          0.08638152666699467,
          0.04407145606169892,
          null,
          0.08638152666699467,
          0.2076697779377282,
          null,
          0.08638152666699467,
          0.20746385818148796,
          null,
          -0.6938139271277921,
          -0.4519166741708604,
          null,
          -0.6938139271277921,
          -0.8750299672682545,
          null,
          -0.8750299672682545,
          -0.6938139271277921,
          null
         ]
        },
        {
         "hoverinfo": "text",
         "hoverlabel": {
          "bgcolor": "lightblue",
          "font": {
           "family": "Arial",
           "size": 14
          }
         },
         "marker": {
          "color": "#1f77b4",
          "line": {
           "color": "#ffffff",
           "width": 2
          },
          "size": 10
         },
         "mode": "markers+text",
         "text": [
          "Warriors",
          "Nets",
          "Pacers",
          "Heat",
          "Lakers",
          "Suns",
          "Hornets",
          "Clippers",
          "Jazz",
          "Mavericks",
          "Spurs",
          "Kings",
          "Bulls",
          "76ers",
          "Wizards",
          "Thunder",
          "Pelicans",
          "Grizzlies",
          "Raptors",
          "Pistons",
          "Cavaliers",
          "Hawks",
          "Bucks",
          "Knicks",
          "Rockets",
          "Celtics"
         ],
         "textposition": "top center",
         "type": "scatter3d",
         "x": [
          0.4814682070584142,
          0.5058863571364525,
          0.7902154231365071,
          0.5611099444441104,
          0.30222215927849905,
          0.6059571520344895,
          0.47073158722974195,
          -0.20677471235766168,
          0.23677193910947325,
          0.04097804962869868,
          -0.762867227872265,
          -0.8043739912295241,
          -0.9709736698537426,
          -0.2665875530078524,
          -0.5903596328042137,
          1,
          0.9056703665050113,
          -0.7017852303471849,
          0.7656701294786891,
          0.421907584404031,
          -0.5155914612513606,
          -0.3380175437944323,
          -0.5287399657357096,
          -0.7023491234930955,
          -0.34682875982009875,
          -0.3533400278769776
         ],
         "y": [
          0.05204648137105475,
          -0.08481151836284753,
          0.26861230676365677,
          0.15534882821632948,
          -0.15810616648759837,
          -0.5951561845685056,
          -0.4098209798538373,
          -0.08511036796455296,
          0.0245129776681635,
          0.013549448429663468,
          0.2075855158627803,
          0.32522586257792824,
          0.27950205957942287,
          0.15553977563031443,
          0.2506937686880465,
          0.33988343292511664,
          0.29714485339956387,
          0.4283827908477441,
          0.23689691024203613,
          0.1536429899952643,
          -0.4595401469158845,
          -0.35283255654136303,
          0.09351512536739065,
          0.17111708255749994,
          -0.5714406843914223,
          -0.7363816050359642
         ],
         "z": [
          -0.043592717471321304,
          -0.20441275782196539,
          0.13402617381117607,
          0.1412622774293386,
          -0.1743688045608331,
          -0.43047255570264775,
          -0.3240388659344637,
          -0.16044987753842457,
          -0.03982745184722336,
          -0.02463995012292853,
          0.20746385818148796,
          0.32052433146917153,
          0.3224440582991206,
          0.11243284942263884,
          0.2076697779377282,
          0.8915046196726788,
          0.6886076903632341,
          0.3630022037376494,
          0.43366967419616304,
          0.025795200519399486,
          -0.5562921482017644,
          -0.4519166741708604,
          0.04407145606169892,
          0.08638152666699467,
          -0.6938139271277921,
          -0.8750299672682545
         ]
        }
       ],
       "layout": {
        "hovermode": "closest",
        "margin": {
         "b": 0,
         "l": 0,
         "r": 0,
         "t": 40
        },
        "scene": {
         "camera": {
          "center": {
           "x": 0,
           "y": 0,
           "z": 0
          },
          "eye": {
           "x": 1.5,
           "y": 1.5,
           "z": 1.5
          },
          "up": {
           "x": 0,
           "y": 0,
           "z": 1
          }
         },
         "xaxis": {
          "showgrid": false,
          "showticklabels": false,
          "zeroline": false
         },
         "yaxis": {
          "showgrid": false,
          "showticklabels": false,
          "zeroline": false
         },
         "zaxis": {
          "showgrid": false,
          "showticklabels": false,
          "zeroline": false
         }
        },
        "showlegend": false,
        "template": {
         "data": {
          "bar": [
           {
            "error_x": {
             "color": "#2a3f5f"
            },
            "error_y": {
             "color": "#2a3f5f"
            },
            "marker": {
             "line": {
              "color": "#E5ECF6",
              "width": 0.5
             },
             "pattern": {
              "fillmode": "overlay",
              "size": 10,
              "solidity": 0.2
             }
            },
            "type": "bar"
           }
          ],
          "barpolar": [
           {
            "marker": {
             "line": {
              "color": "#E5ECF6",
              "width": 0.5
             },
             "pattern": {
              "fillmode": "overlay",
              "size": 10,
              "solidity": 0.2
             }
            },
            "type": "barpolar"
           }
          ],
          "carpet": [
           {
            "aaxis": {
             "endlinecolor": "#2a3f5f",
             "gridcolor": "white",
             "linecolor": "white",
             "minorgridcolor": "white",
             "startlinecolor": "#2a3f5f"
            },
            "baxis": {
             "endlinecolor": "#2a3f5f",
             "gridcolor": "white",
             "linecolor": "white",
             "minorgridcolor": "white",
             "startlinecolor": "#2a3f5f"
            },
            "type": "carpet"
           }
          ],
          "choropleth": [
           {
            "colorbar": {
             "outlinewidth": 0,
             "ticks": ""
            },
            "type": "choropleth"
           }
          ],
          "contour": [
           {
            "colorbar": {
             "outlinewidth": 0,
             "ticks": ""
            },
            "colorscale": [
             [
              0,
              "#0d0887"
             ],
             [
              0.1111111111111111,
              "#46039f"
             ],
             [
              0.2222222222222222,
              "#7201a8"
             ],
             [
              0.3333333333333333,
              "#9c179e"
             ],
             [
              0.4444444444444444,
              "#bd3786"
             ],
             [
              0.5555555555555556,
              "#d8576b"
             ],
             [
              0.6666666666666666,
              "#ed7953"
             ],
             [
              0.7777777777777778,
              "#fb9f3a"
             ],
             [
              0.8888888888888888,
              "#fdca26"
             ],
             [
              1,
              "#f0f921"
             ]
            ],
            "type": "contour"
           }
          ],
          "contourcarpet": [
           {
            "colorbar": {
             "outlinewidth": 0,
             "ticks": ""
            },
            "type": "contourcarpet"
           }
          ],
          "heatmap": [
           {
            "colorbar": {
             "outlinewidth": 0,
             "ticks": ""
            },
            "colorscale": [
             [
              0,
              "#0d0887"
             ],
             [
              0.1111111111111111,
              "#46039f"
             ],
             [
              0.2222222222222222,
              "#7201a8"
             ],
             [
              0.3333333333333333,
              "#9c179e"
             ],
             [
              0.4444444444444444,
              "#bd3786"
             ],
             [
              0.5555555555555556,
              "#d8576b"
             ],
             [
              0.6666666666666666,
              "#ed7953"
             ],
             [
              0.7777777777777778,
              "#fb9f3a"
             ],
             [
              0.8888888888888888,
              "#fdca26"
             ],
             [
              1,
              "#f0f921"
             ]
            ],
            "type": "heatmap"
           }
          ],
          "heatmapgl": [
           {
            "colorbar": {
             "outlinewidth": 0,
             "ticks": ""
            },
            "colorscale": [
             [
              0,
              "#0d0887"
             ],
             [
              0.1111111111111111,
              "#46039f"
             ],
             [
              0.2222222222222222,
              "#7201a8"
             ],
             [
              0.3333333333333333,
              "#9c179e"
             ],
             [
              0.4444444444444444,
              "#bd3786"
             ],
             [
              0.5555555555555556,
              "#d8576b"
             ],
             [
              0.6666666666666666,
              "#ed7953"
             ],
             [
              0.7777777777777778,
              "#fb9f3a"
             ],
             [
              0.8888888888888888,
              "#fdca26"
             ],
             [
              1,
              "#f0f921"
             ]
            ],
            "type": "heatmapgl"
           }
          ],
          "histogram": [
           {
            "marker": {
             "pattern": {
              "fillmode": "overlay",
              "size": 10,
              "solidity": 0.2
             }
            },
            "type": "histogram"
           }
          ],
          "histogram2d": [
           {
            "colorbar": {
             "outlinewidth": 0,
             "ticks": ""
            },
            "colorscale": [
             [
              0,
              "#0d0887"
             ],
             [
              0.1111111111111111,
              "#46039f"
             ],
             [
              0.2222222222222222,
              "#7201a8"
             ],
             [
              0.3333333333333333,
              "#9c179e"
             ],
             [
              0.4444444444444444,
              "#bd3786"
             ],
             [
              0.5555555555555556,
              "#d8576b"
             ],
             [
              0.6666666666666666,
              "#ed7953"
             ],
             [
              0.7777777777777778,
              "#fb9f3a"
             ],
             [
              0.8888888888888888,
              "#fdca26"
             ],
             [
              1,
              "#f0f921"
             ]
            ],
            "type": "histogram2d"
           }
          ],
          "histogram2dcontour": [
           {
            "colorbar": {
             "outlinewidth": 0,
             "ticks": ""
            },
            "colorscale": [
             [
              0,
              "#0d0887"
             ],
             [
              0.1111111111111111,
              "#46039f"
             ],
             [
              0.2222222222222222,
              "#7201a8"
             ],
             [
              0.3333333333333333,
              "#9c179e"
             ],
             [
              0.4444444444444444,
              "#bd3786"
             ],
             [
              0.5555555555555556,
              "#d8576b"
             ],
             [
              0.6666666666666666,
              "#ed7953"
             ],
             [
              0.7777777777777778,
              "#fb9f3a"
             ],
             [
              0.8888888888888888,
              "#fdca26"
             ],
             [
              1,
              "#f0f921"
             ]
            ],
            "type": "histogram2dcontour"
           }
          ],
          "mesh3d": [
           {
            "colorbar": {
             "outlinewidth": 0,
             "ticks": ""
            },
            "type": "mesh3d"
           }
          ],
          "parcoords": [
           {
            "line": {
             "colorbar": {
              "outlinewidth": 0,
              "ticks": ""
             }
            },
            "type": "parcoords"
           }
          ],
          "pie": [
           {
            "automargin": true,
            "type": "pie"
           }
          ],
          "scatter": [
           {
            "fillpattern": {
             "fillmode": "overlay",
             "size": 10,
             "solidity": 0.2
            },
            "type": "scatter"
           }
          ],
          "scatter3d": [
           {
            "line": {
             "colorbar": {
              "outlinewidth": 0,
              "ticks": ""
             }
            },
            "marker": {
             "colorbar": {
              "outlinewidth": 0,
              "ticks": ""
             }
            },
            "type": "scatter3d"
           }
          ],
          "scattercarpet": [
           {
            "marker": {
             "colorbar": {
              "outlinewidth": 0,
              "ticks": ""
             }
            },
            "type": "scattercarpet"
           }
          ],
          "scattergeo": [
           {
            "marker": {
             "colorbar": {
              "outlinewidth": 0,
              "ticks": ""
             }
            },
            "type": "scattergeo"
           }
          ],
          "scattergl": [
           {
            "marker": {
             "colorbar": {
              "outlinewidth": 0,
              "ticks": ""
             }
            },
            "type": "scattergl"
           }
          ],
          "scattermapbox": [
           {
            "marker": {
             "colorbar": {
              "outlinewidth": 0,
              "ticks": ""
             }
            },
            "type": "scattermapbox"
           }
          ],
          "scatterpolar": [
           {
            "marker": {
             "colorbar": {
              "outlinewidth": 0,
              "ticks": ""
             }
            },
            "type": "scatterpolar"
           }
          ],
          "scatterpolargl": [
           {
            "marker": {
             "colorbar": {
              "outlinewidth": 0,
              "ticks": ""
             }
            },
            "type": "scatterpolargl"
           }
          ],
          "scatterternary": [
           {
            "marker": {
             "colorbar": {
              "outlinewidth": 0,
              "ticks": ""
             }
            },
            "type": "scatterternary"
           }
          ],
          "surface": [
           {
            "colorbar": {
             "outlinewidth": 0,
             "ticks": ""
            },
            "colorscale": [
             [
              0,
              "#0d0887"
             ],
             [
              0.1111111111111111,
              "#46039f"
             ],
             [
              0.2222222222222222,
              "#7201a8"
             ],
             [
              0.3333333333333333,
              "#9c179e"
             ],
             [
              0.4444444444444444,
              "#bd3786"
             ],
             [
              0.5555555555555556,
              "#d8576b"
             ],
             [
              0.6666666666666666,
              "#ed7953"
             ],
             [
              0.7777777777777778,
              "#fb9f3a"
             ],
             [
              0.8888888888888888,
              "#fdca26"
             ],
             [
              1,
              "#f0f921"
             ]
            ],
            "type": "surface"
           }
          ],
          "table": [
           {
            "cells": {
             "fill": {
              "color": "#EBF0F8"
             },
             "line": {
              "color": "white"
             }
            },
            "header": {
             "fill": {
              "color": "#C8D4E3"
             },
             "line": {
              "color": "white"
             }
            },
            "type": "table"
           }
          ]
         },
         "layout": {
          "annotationdefaults": {
           "arrowcolor": "#2a3f5f",
           "arrowhead": 0,
           "arrowwidth": 1
          },
          "autotypenumbers": "strict",
          "coloraxis": {
           "colorbar": {
            "outlinewidth": 0,
            "ticks": ""
           }
          },
          "colorscale": {
           "diverging": [
            [
             0,
             "#8e0152"
            ],
            [
             0.1,
             "#c51b7d"
            ],
            [
             0.2,
             "#de77ae"
            ],
            [
             0.3,
             "#f1b6da"
            ],
            [
             0.4,
             "#fde0ef"
            ],
            [
             0.5,
             "#f7f7f7"
            ],
            [
             0.6,
             "#e6f5d0"
            ],
            [
             0.7,
             "#b8e186"
            ],
            [
             0.8,
             "#7fbc41"
            ],
            [
             0.9,
             "#4d9221"
            ],
            [
             1,
             "#276419"
            ]
           ],
           "sequential": [
            [
             0,
             "#0d0887"
            ],
            [
             0.1111111111111111,
             "#46039f"
            ],
            [
             0.2222222222222222,
             "#7201a8"
            ],
            [
             0.3333333333333333,
             "#9c179e"
            ],
            [
             0.4444444444444444,
             "#bd3786"
            ],
            [
             0.5555555555555556,
             "#d8576b"
            ],
            [
             0.6666666666666666,
             "#ed7953"
            ],
            [
             0.7777777777777778,
             "#fb9f3a"
            ],
            [
             0.8888888888888888,
             "#fdca26"
            ],
            [
             1,
             "#f0f921"
            ]
           ],
           "sequentialminus": [
            [
             0,
             "#0d0887"
            ],
            [
             0.1111111111111111,
             "#46039f"
            ],
            [
             0.2222222222222222,
             "#7201a8"
            ],
            [
             0.3333333333333333,
             "#9c179e"
            ],
            [
             0.4444444444444444,
             "#bd3786"
            ],
            [
             0.5555555555555556,
             "#d8576b"
            ],
            [
             0.6666666666666666,
             "#ed7953"
            ],
            [
             0.7777777777777778,
             "#fb9f3a"
            ],
            [
             0.8888888888888888,
             "#fdca26"
            ],
            [
             1,
             "#f0f921"
            ]
           ]
          },
          "colorway": [
           "#636efa",
           "#EF553B",
           "#00cc96",
           "#ab63fa",
           "#FFA15A",
           "#19d3f3",
           "#FF6692",
           "#B6E880",
           "#FF97FF",
           "#FECB52"
          ],
          "font": {
           "color": "#2a3f5f"
          },
          "geo": {
           "bgcolor": "white",
           "lakecolor": "white",
           "landcolor": "#E5ECF6",
           "showlakes": true,
           "showland": true,
           "subunitcolor": "white"
          },
          "hoverlabel": {
           "align": "left"
          },
          "hovermode": "closest",
          "mapbox": {
           "style": "light"
          },
          "paper_bgcolor": "white",
          "plot_bgcolor": "#E5ECF6",
          "polar": {
           "angularaxis": {
            "gridcolor": "white",
            "linecolor": "white",
            "ticks": ""
           },
           "bgcolor": "#E5ECF6",
           "radialaxis": {
            "gridcolor": "white",
            "linecolor": "white",
            "ticks": ""
           }
          },
          "scene": {
           "xaxis": {
            "backgroundcolor": "#E5ECF6",
            "gridcolor": "white",
            "gridwidth": 2,
            "linecolor": "white",
            "showbackground": true,
            "ticks": "",
            "zerolinecolor": "white"
           },
           "yaxis": {
            "backgroundcolor": "#E5ECF6",
            "gridcolor": "white",
            "gridwidth": 2,
            "linecolor": "white",
            "showbackground": true,
            "ticks": "",
            "zerolinecolor": "white"
           },
           "zaxis": {
            "backgroundcolor": "#E5ECF6",
            "gridcolor": "white",
            "gridwidth": 2,
            "linecolor": "white",
            "showbackground": true,
            "ticks": "",
            "zerolinecolor": "white"
           }
          },
          "shapedefaults": {
           "line": {
            "color": "#2a3f5f"
           }
          },
          "ternary": {
           "aaxis": {
            "gridcolor": "white",
            "linecolor": "white",
            "ticks": ""
           },
           "baxis": {
            "gridcolor": "white",
            "linecolor": "white",
            "ticks": ""
           },
           "bgcolor": "#E5ECF6",
           "caxis": {
            "gridcolor": "white",
            "linecolor": "white",
            "ticks": ""
           }
          },
          "title": {
           "x": 0.05
          },
          "xaxis": {
           "automargin": true,
           "gridcolor": "white",
           "linecolor": "white",
           "ticks": "",
           "title": {
            "standoff": 15
           },
           "zerolinecolor": "white",
           "zerolinewidth": 2
          },
          "yaxis": {
           "automargin": true,
           "gridcolor": "white",
           "linecolor": "white",
           "ticks": "",
           "title": {
            "standoff": 15
           },
           "zerolinecolor": "white",
           "zerolinewidth": 2
          }
         }
        },
        "title": {
         "text": "NBA Trade Deadline 2025 - 3D Interactive Network"
        }
       }
      }
     },
     "metadata": {},
     "output_type": "display_data"
    }
   ],
   "source": [
    "# Update layout\n",
    "fig.update_layout(\n",
    "    title='NBA Trade Deadline 2025 - 3D Interactive Network',\n",
    "    showlegend=False,\n",
    "    hovermode='closest',\n",
    "    margin=dict(b=0,l=0,r=0,t=40),\n",
    "    scene=dict(\n",
    "        xaxis=dict(showgrid=False, zeroline=False, showticklabels=False),\n",
    "        yaxis=dict(showgrid=False, zeroline=False, showticklabels=False),\n",
    "        zaxis=dict(showgrid=False, zeroline=False, showticklabels=False),\n",
    "    ),\n",
    "    scene_camera=dict(\n",
    "        up=dict(x=0, y=0, z=1),\n",
    "        center=dict(x=0, y=0, z=0),\n",
    "        eye=dict(x=1.5, y=1.5, z=1.5)\n",
    "    )\n",
    ")\n",
    "\n",
    "# Show the plot\n",
    "fig.show()"
   ]
  },
  {
   "cell_type": "markdown",
   "id": "8ad77344",
   "metadata": {},
   "source": [
    "Let's load up the season data for each player in the nba, and match it up with the team they were on at the time of the trade. Then move it around with the team that they got moved for. The goal is to see the net movement of P+r+a."
   ]
  },
  {
   "cell_type": "code",
   "execution_count": 20,
   "id": "8a20040e",
   "metadata": {},
   "outputs": [],
   "source": [
    "player_stats = pd.read_csv(\"playerStats.csv\")\n",
    "player_stats\n",
    "player_stats_dict = player_stats.set_index('NAME')['P+R+A'].to_dict()"
   ]
  },
  {
   "cell_type": "code",
   "execution_count": 22,
   "id": "cf99f899",
   "metadata": {},
   "outputs": [
    {
     "data": {
      "application/vnd.plotly.v1+json": {
       "config": {
        "plotlyServerURL": "https://plot.ly"
       },
       "data": [
        {
         "hoverinfo": "none",
         "line": {
          "color": "#888",
          "width": 1
         },
         "mode": "lines",
         "type": "scatter3d",
         "x": [
          0.7720357409874444,
          0.854309256649954,
          null,
          0.7720357409874444,
          0.4693541576434537,
          null,
          0.7720357409874444,
          0.45693690687687666,
          null,
          0.7720357409874444,
          0.7825867704028284,
          null,
          0.854309256649954,
          0.55175419096074,
          null,
          0.23555920630989544,
          0.4693541576434537,
          null,
          0.4693541576434537,
          0.45693690687687666,
          null,
          0.4693541576434537,
          0.7825867704028284,
          null,
          0.4693541576434537,
          0.06712873971177405,
          null,
          0.55175419096074,
          0.15532800279329928,
          null,
          0.55175419096074,
          0.45693690687687666,
          null,
          0.55175419096074,
          0.5520967049738427,
          null,
          0.3531523921267674,
          0.5520967049738427,
          null,
          0.055684871785142066,
          0.45693690687687666,
          null,
          0.055684871785142066,
          -0.03943629954799155,
          null,
          0.055684871785142066,
          -0.30343716857584996,
          null,
          0.45693690687687666,
          0.15532800279329928,
          null,
          0.45693690687687666,
          0.7825867704028284,
          null,
          0.15532800279329928,
          -0.2933173451036323,
          null,
          -0.5146062282151915,
          -0.7652733497024312,
          null,
          -0.5146062282151915,
          -0.7400080865129209,
          null,
          -0.5146062282151915,
          -0.30343716857584996,
          null,
          -0.5146062282151915,
          -0.6158932086763264,
          null,
          -0.5146062282151915,
          -0.4717828916399973,
          null,
          -0.7652733497024312,
          -0.7400080865129209,
          null,
          -0.7652733497024312,
          -0.6158932086763264,
          null,
          -0.7652733497024312,
          -1,
          null,
          -0.2933173451036323,
          -0.6158932086763264,
          null,
          -0.6158932086763264,
          -1,
          null,
          -0.6158932086763264,
          -0.30343716857584996,
          null,
          -0.6158932086763264,
          -0.4717828916399973,
          null,
          -0.6984391485906786,
          -0.3389166125416782,
          null,
          -0.3389166125416782,
          0.06712873971177405,
          null,
          -0.34234482958981544,
          -0.03943629954799155,
          null,
          -0.03943629954799155,
          0.25909265089603967,
          null,
          -0.30343716857584996,
          -0.4717828916399973,
          null,
          0.25909265089603967,
          0.5584355765784559,
          null
         ],
         "y": [
          -0.342357638009864,
          -0.18832378434662164,
          null,
          -0.342357638009864,
          -0.5560846877594628,
          null,
          -0.342357638009864,
          -0.13917181302967552,
          null,
          -0.342357638009864,
          -0.36563162004449046,
          null,
          -0.18832378434662164,
          -0.3381371182785292,
          null,
          -0.6826200701145587,
          -0.5560846877594628,
          null,
          -0.5560846877594628,
          -0.13917181302967552,
          null,
          -0.5560846877594628,
          -0.36563162004449046,
          null,
          -0.5560846877594628,
          -0.8140918368132529,
          null,
          -0.3381371182785292,
          -0.09791080585023239,
          null,
          -0.3381371182785292,
          -0.13917181302967552,
          null,
          -0.3381371182785292,
          -0.7188382301551294,
          null,
          -0.8747202213413432,
          -0.7188382301551294,
          null,
          0.33586402358183787,
          -0.13917181302967552,
          null,
          0.33586402358183787,
          0.5789972223539989,
          null,
          0.33586402358183787,
          0.4484118477106354,
          null,
          -0.13917181302967552,
          -0.09791080585023239,
          null,
          -0.13917181302967552,
          -0.36563162004449046,
          null,
          -0.09791080585023239,
          0.11264766854936907,
          null,
          0.5084738355078938,
          0.5909895635735551,
          null,
          0.5084738355078938,
          0.7329913307303447,
          null,
          0.5084738355078938,
          0.4484118477106354,
          null,
          0.5084738355078938,
          0.39740364598917566,
          null,
          0.5084738355078938,
          0.3467070607648508,
          null,
          0.5909895635735551,
          0.7329913307303447,
          null,
          0.5909895635735551,
          0.39740364598917566,
          null,
          0.5909895635735551,
          0.5251320273644471,
          null,
          0.11264766854936907,
          0.39740364598917566,
          null,
          0.39740364598917566,
          0.5251320273644471,
          null,
          0.39740364598917566,
          0.4484118477106354,
          null,
          0.39740364598917566,
          0.3467070607648508,
          null,
          -0.7763156992031129,
          -0.7045329262878697,
          null,
          -0.7045329262878697,
          -0.8140918368132529,
          null,
          0.4410482752630473,
          0.5789972223539989,
          null,
          0.5789972223539989,
          0.8127984195806582,
          null,
          0.4484118477106354,
          0.3467070607648508,
          null,
          0.8127984195806582,
          0.7672715302643286,
          null
         ],
         "z": [
          -0.266831620941116,
          -0.40827865042239947,
          null,
          -0.266831620941116,
          -0.17437193987916655,
          null,
          -0.266831620941116,
          -0.1613449719698181,
          null,
          -0.266831620941116,
          -0.06764220351155209,
          null,
          -0.40827865042239947,
          -0.0728918755343902,
          null,
          0.10231023783677402,
          -0.17437193987916655,
          null,
          -0.17437193987916655,
          -0.1613449719698181,
          null,
          -0.17437193987916655,
          -0.06764220351155209,
          null,
          -0.17437193987916655,
          -0.3183674447296555,
          null,
          -0.0728918755343902,
          -0.06915648762941998,
          null,
          -0.0728918755343902,
          -0.1613449719698181,
          null,
          -0.0728918755343902,
          0.28835798394444917,
          null,
          0.5871108167811322,
          0.28835798394444917,
          null,
          -0.16007847807922473,
          -0.1613449719698181,
          null,
          -0.16007847807922473,
          -0.6149462885323614,
          null,
          -0.16007847807922473,
          0.2996952673867319,
          null,
          -0.1613449719698181,
          -0.06915648762941998,
          null,
          -0.1613449719698181,
          -0.06764220351155209,
          null,
          -0.06915648762941998,
          0.12164943271230318,
          null,
          0.5909803884183913,
          0.5370810003324126,
          null,
          0.5909803884183913,
          0.8119484273584034,
          null,
          0.5909803884183913,
          0.2996952673867319,
          null,
          0.5909803884183913,
          0.3821812293118255,
          null,
          0.5909803884183913,
          0.6185921868905846,
          null,
          0.5370810003324126,
          0.8119484273584034,
          null,
          0.5370810003324126,
          0.3821812293118255,
          null,
          0.5370810003324126,
          0.41970304289474264,
          null,
          0.12164943271230318,
          0.3821812293118255,
          null,
          0.3821812293118255,
          0.41970304289474264,
          null,
          0.3821812293118255,
          0.2996952673867319,
          null,
          0.3821812293118255,
          0.6185921868905846,
          null,
          -0.22291780188746954,
          -0.25572682765523413,
          null,
          -0.25572682765523413,
          -0.3183674447296555,
          null,
          -0.8924825477478429,
          -0.6149462885323614,
          null,
          -0.6149462885323614,
          -0.6068664582043056,
          null,
          0.2996952673867319,
          0.6185921868905846,
          null,
          -0.6068664582043056,
          -0.46770641714379624,
          null
         ]
        },
        {
         "hoverinfo": "text",
         "hoverlabel": {
          "bgcolor": "white",
          "font": {
           "size": 12
          }
         },
         "hovertext": [
          "Warriors<br>Net P+R+A Change: -17.80",
          "Nets<br>Net P+R+A Change: 14.50",
          "Pacers<br>Net P+R+A Change: -7.70",
          "Heat<br>Net P+R+A Change: -57.00",
          "Lakers<br>Net P+R+A Change: 10.90",
          "Suns<br>Net P+R+A Change: -23.00",
          "Hornets<br>Net P+R+A Change: 31.20",
          "Clippers<br>Net P+R+A Change: 35.30",
          "Jazz<br>Net P+R+A Change: 75.50",
          "Mavericks<br>Net P+R+A Change: -93.20",
          "Spurs<br>Net P+R+A Change: 99.70",
          "Kings<br>Net P+R+A Change: -7.10",
          "Bulls<br>Net P+R+A Change: -35.30",
          "76ers<br>Net P+R+A Change: -4.00",
          "Wizards<br>Net P+R+A Change: -53.00",
          "Thunder<br>Net P+R+A Change: -10.20",
          "Pelicans<br>Net P+R+A Change: 16.20",
          "Grizzlies<br>Net P+R+A Change: 11.60",
          "Raptors<br>Net P+R+A Change: 6.90",
          "Pistons<br>Net P+R+A Change: 51.80",
          "Cavaliers<br>Net P+R+A Change: 30.40",
          "Hawks<br>Net P+R+A Change: -50.70",
          "Bucks<br>Net P+R+A Change: -64.40",
          "Knicks<br>Net P+R+A Change: 39.40",
          "Rockets<br>Net P+R+A Change: -3.00",
          "Celtics<br>Net P+R+A Change: 3.00"
         ],
         "marker": {
          "color": "#1f77b4",
          "line": {
           "width": 2
          },
          "size": 10
         },
         "mode": "markers+text",
         "text": [
          "Warriors",
          "Nets",
          "Pacers",
          "Heat",
          "Lakers",
          "Suns",
          "Hornets",
          "Clippers",
          "Jazz",
          "Mavericks",
          "Spurs",
          "Kings",
          "Bulls",
          "76ers",
          "Wizards",
          "Thunder",
          "Pelicans",
          "Grizzlies",
          "Raptors",
          "Pistons",
          "Cavaliers",
          "Hawks",
          "Bucks",
          "Knicks",
          "Rockets",
          "Celtics"
         ],
         "textposition": "top center",
         "type": "scatter3d",
         "x": [
          0.7720357409874444,
          0.854309256649954,
          0.23555920630989544,
          0.4693541576434537,
          0.55175419096074,
          0.3531523921267674,
          0.5520967049738427,
          0.055684871785142066,
          0.45693690687687666,
          0.15532800279329928,
          -0.5146062282151915,
          -0.7652733497024312,
          -0.7400080865129209,
          -0.2933173451036323,
          -0.6158932086763264,
          -0.6984391485906786,
          -0.3389166125416782,
          -1,
          0.06712873971177405,
          0.7825867704028284,
          -0.34234482958981544,
          -0.03943629954799155,
          -0.30343716857584996,
          -0.4717828916399973,
          0.25909265089603967,
          0.5584355765784559
         ],
         "y": [
          -0.342357638009864,
          -0.18832378434662164,
          -0.6826200701145587,
          -0.5560846877594628,
          -0.3381371182785292,
          -0.8747202213413432,
          -0.7188382301551294,
          0.33586402358183787,
          -0.13917181302967552,
          -0.09791080585023239,
          0.5084738355078938,
          0.5909895635735551,
          0.7329913307303447,
          0.11264766854936907,
          0.39740364598917566,
          -0.7763156992031129,
          -0.7045329262878697,
          0.5251320273644471,
          -0.8140918368132529,
          -0.36563162004449046,
          0.4410482752630473,
          0.5789972223539989,
          0.4484118477106354,
          0.3467070607648508,
          0.8127984195806582,
          0.7672715302643286
         ],
         "z": [
          -0.266831620941116,
          -0.40827865042239947,
          0.10231023783677402,
          -0.17437193987916655,
          -0.0728918755343902,
          0.5871108167811322,
          0.28835798394444917,
          -0.16007847807922473,
          -0.1613449719698181,
          -0.06915648762941998,
          0.5909803884183913,
          0.5370810003324126,
          0.8119484273584034,
          0.12164943271230318,
          0.3821812293118255,
          -0.22291780188746954,
          -0.25572682765523413,
          0.41970304289474264,
          -0.3183674447296555,
          -0.06764220351155209,
          -0.8924825477478429,
          -0.6149462885323614,
          0.2996952673867319,
          0.6185921868905846,
          -0.6068664582043056,
          -0.46770641714379624
         ]
        }
       ],
       "layout": {
        "hovermode": "closest",
        "scene": {
         "xaxis": {
          "visible": false
         },
         "yaxis": {
          "visible": false
         },
         "zaxis": {
          "visible": false
         }
        },
        "showlegend": false,
        "template": {
         "data": {
          "bar": [
           {
            "error_x": {
             "color": "#2a3f5f"
            },
            "error_y": {
             "color": "#2a3f5f"
            },
            "marker": {
             "line": {
              "color": "#E5ECF6",
              "width": 0.5
             },
             "pattern": {
              "fillmode": "overlay",
              "size": 10,
              "solidity": 0.2
             }
            },
            "type": "bar"
           }
          ],
          "barpolar": [
           {
            "marker": {
             "line": {
              "color": "#E5ECF6",
              "width": 0.5
             },
             "pattern": {
              "fillmode": "overlay",
              "size": 10,
              "solidity": 0.2
             }
            },
            "type": "barpolar"
           }
          ],
          "carpet": [
           {
            "aaxis": {
             "endlinecolor": "#2a3f5f",
             "gridcolor": "white",
             "linecolor": "white",
             "minorgridcolor": "white",
             "startlinecolor": "#2a3f5f"
            },
            "baxis": {
             "endlinecolor": "#2a3f5f",
             "gridcolor": "white",
             "linecolor": "white",
             "minorgridcolor": "white",
             "startlinecolor": "#2a3f5f"
            },
            "type": "carpet"
           }
          ],
          "choropleth": [
           {
            "colorbar": {
             "outlinewidth": 0,
             "ticks": ""
            },
            "type": "choropleth"
           }
          ],
          "contour": [
           {
            "colorbar": {
             "outlinewidth": 0,
             "ticks": ""
            },
            "colorscale": [
             [
              0,
              "#0d0887"
             ],
             [
              0.1111111111111111,
              "#46039f"
             ],
             [
              0.2222222222222222,
              "#7201a8"
             ],
             [
              0.3333333333333333,
              "#9c179e"
             ],
             [
              0.4444444444444444,
              "#bd3786"
             ],
             [
              0.5555555555555556,
              "#d8576b"
             ],
             [
              0.6666666666666666,
              "#ed7953"
             ],
             [
              0.7777777777777778,
              "#fb9f3a"
             ],
             [
              0.8888888888888888,
              "#fdca26"
             ],
             [
              1,
              "#f0f921"
             ]
            ],
            "type": "contour"
           }
          ],
          "contourcarpet": [
           {
            "colorbar": {
             "outlinewidth": 0,
             "ticks": ""
            },
            "type": "contourcarpet"
           }
          ],
          "heatmap": [
           {
            "colorbar": {
             "outlinewidth": 0,
             "ticks": ""
            },
            "colorscale": [
             [
              0,
              "#0d0887"
             ],
             [
              0.1111111111111111,
              "#46039f"
             ],
             [
              0.2222222222222222,
              "#7201a8"
             ],
             [
              0.3333333333333333,
              "#9c179e"
             ],
             [
              0.4444444444444444,
              "#bd3786"
             ],
             [
              0.5555555555555556,
              "#d8576b"
             ],
             [
              0.6666666666666666,
              "#ed7953"
             ],
             [
              0.7777777777777778,
              "#fb9f3a"
             ],
             [
              0.8888888888888888,
              "#fdca26"
             ],
             [
              1,
              "#f0f921"
             ]
            ],
            "type": "heatmap"
           }
          ],
          "heatmapgl": [
           {
            "colorbar": {
             "outlinewidth": 0,
             "ticks": ""
            },
            "colorscale": [
             [
              0,
              "#0d0887"
             ],
             [
              0.1111111111111111,
              "#46039f"
             ],
             [
              0.2222222222222222,
              "#7201a8"
             ],
             [
              0.3333333333333333,
              "#9c179e"
             ],
             [
              0.4444444444444444,
              "#bd3786"
             ],
             [
              0.5555555555555556,
              "#d8576b"
             ],
             [
              0.6666666666666666,
              "#ed7953"
             ],
             [
              0.7777777777777778,
              "#fb9f3a"
             ],
             [
              0.8888888888888888,
              "#fdca26"
             ],
             [
              1,
              "#f0f921"
             ]
            ],
            "type": "heatmapgl"
           }
          ],
          "histogram": [
           {
            "marker": {
             "pattern": {
              "fillmode": "overlay",
              "size": 10,
              "solidity": 0.2
             }
            },
            "type": "histogram"
           }
          ],
          "histogram2d": [
           {
            "colorbar": {
             "outlinewidth": 0,
             "ticks": ""
            },
            "colorscale": [
             [
              0,
              "#0d0887"
             ],
             [
              0.1111111111111111,
              "#46039f"
             ],
             [
              0.2222222222222222,
              "#7201a8"
             ],
             [
              0.3333333333333333,
              "#9c179e"
             ],
             [
              0.4444444444444444,
              "#bd3786"
             ],
             [
              0.5555555555555556,
              "#d8576b"
             ],
             [
              0.6666666666666666,
              "#ed7953"
             ],
             [
              0.7777777777777778,
              "#fb9f3a"
             ],
             [
              0.8888888888888888,
              "#fdca26"
             ],
             [
              1,
              "#f0f921"
             ]
            ],
            "type": "histogram2d"
           }
          ],
          "histogram2dcontour": [
           {
            "colorbar": {
             "outlinewidth": 0,
             "ticks": ""
            },
            "colorscale": [
             [
              0,
              "#0d0887"
             ],
             [
              0.1111111111111111,
              "#46039f"
             ],
             [
              0.2222222222222222,
              "#7201a8"
             ],
             [
              0.3333333333333333,
              "#9c179e"
             ],
             [
              0.4444444444444444,
              "#bd3786"
             ],
             [
              0.5555555555555556,
              "#d8576b"
             ],
             [
              0.6666666666666666,
              "#ed7953"
             ],
             [
              0.7777777777777778,
              "#fb9f3a"
             ],
             [
              0.8888888888888888,
              "#fdca26"
             ],
             [
              1,
              "#f0f921"
             ]
            ],
            "type": "histogram2dcontour"
           }
          ],
          "mesh3d": [
           {
            "colorbar": {
             "outlinewidth": 0,
             "ticks": ""
            },
            "type": "mesh3d"
           }
          ],
          "parcoords": [
           {
            "line": {
             "colorbar": {
              "outlinewidth": 0,
              "ticks": ""
             }
            },
            "type": "parcoords"
           }
          ],
          "pie": [
           {
            "automargin": true,
            "type": "pie"
           }
          ],
          "scatter": [
           {
            "fillpattern": {
             "fillmode": "overlay",
             "size": 10,
             "solidity": 0.2
            },
            "type": "scatter"
           }
          ],
          "scatter3d": [
           {
            "line": {
             "colorbar": {
              "outlinewidth": 0,
              "ticks": ""
             }
            },
            "marker": {
             "colorbar": {
              "outlinewidth": 0,
              "ticks": ""
             }
            },
            "type": "scatter3d"
           }
          ],
          "scattercarpet": [
           {
            "marker": {
             "colorbar": {
              "outlinewidth": 0,
              "ticks": ""
             }
            },
            "type": "scattercarpet"
           }
          ],
          "scattergeo": [
           {
            "marker": {
             "colorbar": {
              "outlinewidth": 0,
              "ticks": ""
             }
            },
            "type": "scattergeo"
           }
          ],
          "scattergl": [
           {
            "marker": {
             "colorbar": {
              "outlinewidth": 0,
              "ticks": ""
             }
            },
            "type": "scattergl"
           }
          ],
          "scattermapbox": [
           {
            "marker": {
             "colorbar": {
              "outlinewidth": 0,
              "ticks": ""
             }
            },
            "type": "scattermapbox"
           }
          ],
          "scatterpolar": [
           {
            "marker": {
             "colorbar": {
              "outlinewidth": 0,
              "ticks": ""
             }
            },
            "type": "scatterpolar"
           }
          ],
          "scatterpolargl": [
           {
            "marker": {
             "colorbar": {
              "outlinewidth": 0,
              "ticks": ""
             }
            },
            "type": "scatterpolargl"
           }
          ],
          "scatterternary": [
           {
            "marker": {
             "colorbar": {
              "outlinewidth": 0,
              "ticks": ""
             }
            },
            "type": "scatterternary"
           }
          ],
          "surface": [
           {
            "colorbar": {
             "outlinewidth": 0,
             "ticks": ""
            },
            "colorscale": [
             [
              0,
              "#0d0887"
             ],
             [
              0.1111111111111111,
              "#46039f"
             ],
             [
              0.2222222222222222,
              "#7201a8"
             ],
             [
              0.3333333333333333,
              "#9c179e"
             ],
             [
              0.4444444444444444,
              "#bd3786"
             ],
             [
              0.5555555555555556,
              "#d8576b"
             ],
             [
              0.6666666666666666,
              "#ed7953"
             ],
             [
              0.7777777777777778,
              "#fb9f3a"
             ],
             [
              0.8888888888888888,
              "#fdca26"
             ],
             [
              1,
              "#f0f921"
             ]
            ],
            "type": "surface"
           }
          ],
          "table": [
           {
            "cells": {
             "fill": {
              "color": "#EBF0F8"
             },
             "line": {
              "color": "white"
             }
            },
            "header": {
             "fill": {
              "color": "#C8D4E3"
             },
             "line": {
              "color": "white"
             }
            },
            "type": "table"
           }
          ]
         },
         "layout": {
          "annotationdefaults": {
           "arrowcolor": "#2a3f5f",
           "arrowhead": 0,
           "arrowwidth": 1
          },
          "autotypenumbers": "strict",
          "coloraxis": {
           "colorbar": {
            "outlinewidth": 0,
            "ticks": ""
           }
          },
          "colorscale": {
           "diverging": [
            [
             0,
             "#8e0152"
            ],
            [
             0.1,
             "#c51b7d"
            ],
            [
             0.2,
             "#de77ae"
            ],
            [
             0.3,
             "#f1b6da"
            ],
            [
             0.4,
             "#fde0ef"
            ],
            [
             0.5,
             "#f7f7f7"
            ],
            [
             0.6,
             "#e6f5d0"
            ],
            [
             0.7,
             "#b8e186"
            ],
            [
             0.8,
             "#7fbc41"
            ],
            [
             0.9,
             "#4d9221"
            ],
            [
             1,
             "#276419"
            ]
           ],
           "sequential": [
            [
             0,
             "#0d0887"
            ],
            [
             0.1111111111111111,
             "#46039f"
            ],
            [
             0.2222222222222222,
             "#7201a8"
            ],
            [
             0.3333333333333333,
             "#9c179e"
            ],
            [
             0.4444444444444444,
             "#bd3786"
            ],
            [
             0.5555555555555556,
             "#d8576b"
            ],
            [
             0.6666666666666666,
             "#ed7953"
            ],
            [
             0.7777777777777778,
             "#fb9f3a"
            ],
            [
             0.8888888888888888,
             "#fdca26"
            ],
            [
             1,
             "#f0f921"
            ]
           ],
           "sequentialminus": [
            [
             0,
             "#0d0887"
            ],
            [
             0.1111111111111111,
             "#46039f"
            ],
            [
             0.2222222222222222,
             "#7201a8"
            ],
            [
             0.3333333333333333,
             "#9c179e"
            ],
            [
             0.4444444444444444,
             "#bd3786"
            ],
            [
             0.5555555555555556,
             "#d8576b"
            ],
            [
             0.6666666666666666,
             "#ed7953"
            ],
            [
             0.7777777777777778,
             "#fb9f3a"
            ],
            [
             0.8888888888888888,
             "#fdca26"
            ],
            [
             1,
             "#f0f921"
            ]
           ]
          },
          "colorway": [
           "#636efa",
           "#EF553B",
           "#00cc96",
           "#ab63fa",
           "#FFA15A",
           "#19d3f3",
           "#FF6692",
           "#B6E880",
           "#FF97FF",
           "#FECB52"
          ],
          "font": {
           "color": "#2a3f5f"
          },
          "geo": {
           "bgcolor": "white",
           "lakecolor": "white",
           "landcolor": "#E5ECF6",
           "showlakes": true,
           "showland": true,
           "subunitcolor": "white"
          },
          "hoverlabel": {
           "align": "left"
          },
          "hovermode": "closest",
          "mapbox": {
           "style": "light"
          },
          "paper_bgcolor": "white",
          "plot_bgcolor": "#E5ECF6",
          "polar": {
           "angularaxis": {
            "gridcolor": "white",
            "linecolor": "white",
            "ticks": ""
           },
           "bgcolor": "#E5ECF6",
           "radialaxis": {
            "gridcolor": "white",
            "linecolor": "white",
            "ticks": ""
           }
          },
          "scene": {
           "xaxis": {
            "backgroundcolor": "#E5ECF6",
            "gridcolor": "white",
            "gridwidth": 2,
            "linecolor": "white",
            "showbackground": true,
            "ticks": "",
            "zerolinecolor": "white"
           },
           "yaxis": {
            "backgroundcolor": "#E5ECF6",
            "gridcolor": "white",
            "gridwidth": 2,
            "linecolor": "white",
            "showbackground": true,
            "ticks": "",
            "zerolinecolor": "white"
           },
           "zaxis": {
            "backgroundcolor": "#E5ECF6",
            "gridcolor": "white",
            "gridwidth": 2,
            "linecolor": "white",
            "showbackground": true,
            "ticks": "",
            "zerolinecolor": "white"
           }
          },
          "shapedefaults": {
           "line": {
            "color": "#2a3f5f"
           }
          },
          "ternary": {
           "aaxis": {
            "gridcolor": "white",
            "linecolor": "white",
            "ticks": ""
           },
           "baxis": {
            "gridcolor": "white",
            "linecolor": "white",
            "ticks": ""
           },
           "bgcolor": "#E5ECF6",
           "caxis": {
            "gridcolor": "white",
            "linecolor": "white",
            "ticks": ""
           }
          },
          "title": {
           "x": 0.05
          },
          "xaxis": {
           "automargin": true,
           "gridcolor": "white",
           "linecolor": "white",
           "ticks": "",
           "title": {
            "standoff": 15
           },
           "zerolinecolor": "white",
           "zerolinewidth": 2
          },
          "yaxis": {
           "automargin": true,
           "gridcolor": "white",
           "linecolor": "white",
           "ticks": "",
           "title": {
            "standoff": 15
           },
           "zerolinecolor": "white",
           "zerolinewidth": 2
          }
         }
        },
        "title": {
         "text": "NBA Trade Deadline 2025 - Team P+R+A Changes"
        }
       }
      }
     },
     "metadata": {},
     "output_type": "display_data"
    }
   ],
   "source": [
    "import networkx as nx\n",
    "import plotly.graph_objects as go\n",
    "import pandas as pd\n",
    "import numpy as np\n",
    "\n",
    "trades = pd.read_csv(\"trades.csv\")\n",
    "player_stats = pd.read_csv(\"playerStats.csv\")\n",
    "player_stats_dict = player_stats.set_index('NAME')['P+R+A'].to_dict()\n",
    "\n",
    "G = nx.Graph()\n",
    "team_pra_changes = {}\n",
    "\n",
    "for _, row in trades.iterrows():\n",
    "    trade_teams = []\n",
    "    trade_details = {}\n",
    "    trade_pra = {}\n",
    "    \n",
    "    for i in range(1, 6):\n",
    "        team_col = f'Team{i}'\n",
    "        if pd.notna(row[team_col]) and ':' in row[team_col]:\n",
    "            team, players = row[team_col].split(':', 1)\n",
    "            team = team.strip()\n",
    "            players_list = [p.strip() for p in players.strip().split(';')]\n",
    "            \n",
    "            total_pra = sum(player_stats_dict.get(player, 0) for player in players_list)\n",
    "            \n",
    "            trade_teams.append(team)\n",
    "            trade_details[team] = players_list\n",
    "            trade_pra[team] = total_pra\n",
    "            \n",
    "            if team not in team_pra_changes:\n",
    "                team_pra_changes[team] = 0\n",
    "    \n",
    "    for i, team1 in enumerate(trade_teams):\n",
    "        for team2 in trade_teams[i+1:]:\n",
    "            G.add_edge(team1, team2, \n",
    "                       team1_players=trade_details[team1],\n",
    "                       team2_players=trade_details[team2],\n",
    "                       team1_pra=trade_pra[team1],\n",
    "                       team2_pra=trade_pra[team2],\n",
    "                       date=row['Date'])\n",
    "            \n",
    "            team_pra_changes[team1] += trade_pra[team2] - trade_pra[team1]\n",
    "            team_pra_changes[team2] += trade_pra[team1] - trade_pra[team2]\n",
    "\n",
    "pos = nx.spring_layout(G, dim=3, k=0.5, iterations=50)\n",
    "\n",
    "edge_x, edge_y, edge_z = [], [], []\n",
    "for edge in G.edges():\n",
    "    x0, y0, z0 = pos[edge[0]]\n",
    "    x1, y1, z1 = pos[edge[1]]\n",
    "    edge_x.extend([x0, x1, None])\n",
    "    edge_y.extend([y0, y1, None])\n",
    "    edge_z.extend([z0, z1, None])\n",
    "\n",
    "edge_trace = go.Scatter3d(x=edge_x, y=edge_y, z=edge_z, mode='lines',\n",
    "                          line=dict(color='#888', width=1), hoverinfo='none')\n",
    "\n",
    "node_x, node_y, node_z = zip(*[pos[node] for node in G.nodes()])\n",
    "node_text = [f\"{team}<br>Net P+R+A Change: {team_pra_changes[team]:.2f}\" \n",
    "             for team in G.nodes()]\n",
    "\n",
    "node_trace = go.Scatter3d(x=node_x, y=node_y, z=node_z, mode='markers+text',\n",
    "                          marker=dict(size=10, color='#1f77b4', line_width=2),\n",
    "                          text=list(G.nodes()), textposition=\"top center\",\n",
    "                          hoverinfo='text', hovertext=node_text,\n",
    "                          hoverlabel=dict(bgcolor='white', font_size=12))\n",
    "\n",
    "fig = go.Figure(data=[edge_trace, node_trace])\n",
    "fig.update_layout(title='NBA Trade Deadline 2025 - Team P+R+A Changes',\n",
    "                  showlegend=False, hovermode='closest',\n",
    "                  scene=dict(xaxis_visible=False, yaxis_visible=False, \n",
    "                             zaxis_visible=False))\n",
    "\n",
    "fig.show()"
   ]
  },
  {
   "cell_type": "code",
   "execution_count": 8,
   "id": "e6bb1ad7",
   "metadata": {},
   "outputs": [
    {
     "data": {
      "application/vnd.plotly.v1+json": {
       "config": {
        "plotlyServerURL": "https://plot.ly"
       },
       "data": [
        {
         "hoverinfo": "none",
         "line": {
          "color": "#888",
          "width": 1
         },
         "mode": "lines",
         "type": "scatter3d",
         "x": [
          -0.40029932095808773,
          -0.25687621996458115,
          null,
          -0.40029932095808773,
          -0.5516209797491396,
          null,
          -0.40029932095808773,
          -0.18000981628748786,
          null,
          -0.40029932095808773,
          -0.4057810601449348,
          null,
          -0.25687621996458115,
          -0.2512782477077902,
          null,
          -0.8737592019226822,
          -0.5516209797491396,
          null,
          -0.5516209797491396,
          -0.18000981628748786,
          null,
          -0.5516209797491396,
          -0.4057810601449348,
          null,
          -0.5516209797491396,
          -0.618441789264282,
          null,
          -0.2512782477077902,
          0.06311305765145986,
          null,
          -0.2512782477077902,
          -0.18000981628748786,
          null,
          -0.2512782477077902,
          -0.4457258806464334,
          null,
          -0.4675095277782463,
          -0.4457258806464334,
          null,
          0.24602582952067273,
          -0.18000981628748786,
          null,
          0.24602582952067273,
          0.33096266064472996,
          null,
          0.24602582952067273,
          0.4915305842121284,
          null,
          -0.18000981628748786,
          0.06311305765145986,
          null,
          -0.18000981628748786,
          -0.4057810601449348,
          null,
          0.06311305765145986,
          0.42748845412989284,
          null,
          0.535203079213125,
          0.6283936015923102,
          null,
          0.535203079213125,
          0.38889643155845777,
          null,
          0.535203079213125,
          0.4915305842121284,
          null,
          0.535203079213125,
          0.6251744091082106,
          null,
          0.535203079213125,
          0.630006208290046,
          null,
          0.6283936015923102,
          0.38889643155845777,
          null,
          0.6283936015923102,
          0.6251744091082106,
          null,
          0.6283936015923102,
          0.8219518898801437,
          null,
          0.42748845412989284,
          0.6251744091082106,
          null,
          0.6251744091082106,
          0.8219518898801437,
          null,
          0.6251744091082106,
          0.4915305842121284,
          null,
          0.6251744091082106,
          0.630006208290046,
          null,
          -0.6975785082051303,
          -0.649353627425656,
          null,
          -0.649353627425656,
          -0.618441789264282,
          null,
          0.37196084936177604,
          0.33096266064472996,
          null,
          0.33096266064472996,
          0.24819481831547008,
          null,
          0.4915305842121284,
          0.630006208290046,
          null,
          0.24819481831547008,
          -0.010667693423972098,
          null
         ],
         "y": [
          0.11421380301097529,
          -0.12598698375053494,
          null,
          0.11421380301097529,
          0.30315666118531065,
          null,
          0.11421380301097529,
          0.08686187845451292,
          null,
          0.11421380301097529,
          0.2782996212476457,
          null,
          -0.12598698375053494,
          -0.26562321417797297,
          null,
          0.4603550250026577,
          0.30315666118531065,
          null,
          0.30315666118531065,
          0.08686187845451292,
          null,
          0.30315666118531065,
          0.2782996212476457,
          null,
          0.30315666118531065,
          0.4247834703936509,
          null,
          -0.26562321417797297,
          -0.21170977810380381,
          null,
          -0.26562321417797297,
          0.08686187845451292,
          null,
          -0.26562321417797297,
          -0.5379885849988115,
          null,
          -0.6099671961413128,
          -0.5379885849988115,
          null,
          0.19096614770187945,
          0.08686187845451292,
          null,
          0.19096614770187945,
          0.6852825233080374,
          null,
          0.19096614770187945,
          -0.2450059905737871,
          null,
          0.08686187845451292,
          -0.21170977810380381,
          null,
          0.08686187845451292,
          0.2782996212476457,
          null,
          -0.21170977810380381,
          -0.35538468987286365,
          null,
          -0.6172184969122432,
          -0.7998598331492247,
          null,
          -0.6172184969122432,
          -0.8707608212330702,
          null,
          -0.6172184969122432,
          -0.2450059905737871,
          null,
          -0.6172184969122432,
          -0.5076794340978206,
          null,
          -0.6172184969122432,
          -0.44244815412452465,
          null,
          -0.7998598331492247,
          -0.8707608212330702,
          null,
          -0.7998598331492247,
          -0.5076794340978206,
          null,
          -0.7998598331492247,
          -0.6855255134330492,
          null,
          -0.35538468987286365,
          -0.5076794340978206,
          null,
          -0.5076794340978206,
          -0.6855255134330492,
          null,
          -0.5076794340978206,
          -0.2450059905737871,
          null,
          -0.5076794340978206,
          -0.44244815412452465,
          null,
          0.3518371348949506,
          0.46113475712725543,
          null,
          0.46113475712725543,
          0.4247834703936509,
          null,
          0.9316119917740547,
          0.6852825233080374,
          null,
          0.6852825233080374,
          1,
          null,
          -0.2450059905737871,
          -0.44244815412452465,
          null,
          1,
          0.9866556764680885,
          null
         ],
         "z": [
          0.5007868828440506,
          0.6626048844102326,
          null,
          0.5007868828440506,
          0.25390400473009145,
          null,
          0.5007868828440506,
          0.2804611321738852,
          null,
          0.5007868828440506,
          0.4328154128534564,
          null,
          0.6626048844102326,
          0.35760891140206513,
          null,
          0.3799735872548,
          0.25390400473009145,
          null,
          0.25390400473009145,
          0.2804611321738852,
          null,
          0.25390400473009145,
          0.4328154128534564,
          null,
          0.25390400473009145,
          -0.16744653794201084,
          null,
          0.35760891140206513,
          0.3023484331408176,
          null,
          0.35760891140206513,
          0.2804611321738852,
          null,
          0.35760891140206513,
          0.0999917839590876,
          null,
          -0.23668033928228008,
          0.0999917839590876,
          null,
          -0.0215396743519369,
          0.2804611321738852,
          null,
          -0.0215396743519369,
          -0.06850782007757716,
          null,
          -0.0215396743519369,
          -0.2361004876424572,
          null,
          0.2804611321738852,
          0.3023484331408176,
          null,
          0.2804611321738852,
          0.4328154128534564,
          null,
          0.3023484331408176,
          0.14409073445355955,
          null,
          -0.2922665998051844,
          -0.19704924658427447,
          null,
          -0.2922665998051844,
          -0.14186911781471026,
          null,
          -0.2922665998051844,
          -0.2361004876424572,
          null,
          -0.2922665998051844,
          -0.16070386632248426,
          null,
          -0.2922665998051844,
          -0.41642237384033315,
          null,
          -0.19704924658427447,
          -0.14186911781471026,
          null,
          -0.19704924658427447,
          -0.16070386632248426,
          null,
          -0.19704924658427447,
          -0.18063390606903387,
          null,
          0.14409073445355955,
          -0.16070386632248426,
          null,
          -0.16070386632248426,
          -0.18063390606903387,
          null,
          -0.16070386632248426,
          -0.2361004876424572,
          null,
          -0.16070386632248426,
          -0.41642237384033315,
          null,
          -0.787686275007794,
          -0.5397258674394633,
          null,
          -0.5397258674394633,
          -0.16744653794201084,
          null,
          -0.2637662224547044,
          -0.06850782007757716,
          null,
          -0.06850782007757716,
          0.08373907073513456,
          null,
          -0.2361004876424572,
          -0.41642237384033315,
          null,
          0.08373907073513456,
          0.21207349667706293,
          null
         ]
        },
        {
         "hoverinfo": "text",
         "hoverlabel": {
          "bgcolor": "white",
          "font": {
           "size": 12
          }
         },
         "hovertext": [
          "Warriors<br>Net P+R+A Change: -17.80",
          "Nets<br>Net P+R+A Change: 14.50",
          "Pacers<br>Net P+R+A Change: -7.70",
          "Heat<br>Net P+R+A Change: -57.00",
          "Lakers<br>Net P+R+A Change: 10.90",
          "Suns<br>Net P+R+A Change: -23.00",
          "Hornets<br>Net P+R+A Change: 31.20",
          "Clippers<br>Net P+R+A Change: 35.30",
          "Jazz<br>Net P+R+A Change: 75.50",
          "Mavericks<br>Net P+R+A Change: -93.20",
          "Spurs<br>Net P+R+A Change: 99.70",
          "Kings<br>Net P+R+A Change: -7.10",
          "Bulls<br>Net P+R+A Change: -35.30",
          "76ers<br>Net P+R+A Change: -4.00",
          "Wizards<br>Net P+R+A Change: -53.00",
          "Thunder<br>Net P+R+A Change: -10.20",
          "Pelicans<br>Net P+R+A Change: 16.20",
          "Grizzlies<br>Net P+R+A Change: 11.60",
          "Raptors<br>Net P+R+A Change: 6.90",
          "Pistons<br>Net P+R+A Change: 51.80",
          "Cavaliers<br>Net P+R+A Change: 30.40",
          "Hawks<br>Net P+R+A Change: -50.70",
          "Bucks<br>Net P+R+A Change: -64.40",
          "Knicks<br>Net P+R+A Change: 39.40",
          "Rockets<br>Net P+R+A Change: -3.00",
          "Celtics<br>Net P+R+A Change: 3.00"
         ],
         "marker": {
          "color": [
           "#888888",
           "#888888",
           "#888888",
           "#888888",
           "#888888",
           "#888888",
           "#888888",
           "#888888",
           "#888888",
           "#888888",
           "#888888",
           "#888888",
           "#888888",
           "#888888",
           "#888888",
           "#888888",
           "#888888",
           "#888888",
           "#888888",
           "#888888",
           "#888888",
           "#888888",
           "#888888",
           "#888888",
           "#888888",
           "#888888"
          ],
          "line": {
           "width": 2
          },
          "size": 10
         },
         "mode": "markers+text",
         "text": [
          "Warriors",
          "Nets",
          "Pacers",
          "Heat",
          "Lakers",
          "Suns",
          "Hornets",
          "Clippers",
          "Jazz",
          "Mavericks",
          "Spurs",
          "Kings",
          "Bulls",
          "76ers",
          "Wizards",
          "Thunder",
          "Pelicans",
          "Grizzlies",
          "Raptors",
          "Pistons",
          "Cavaliers",
          "Hawks",
          "Bucks",
          "Knicks",
          "Rockets",
          "Celtics"
         ],
         "textposition": "top center",
         "type": "scatter3d",
         "x": [
          -0.40029932095808773,
          -0.25687621996458115,
          -0.8737592019226822,
          -0.5516209797491396,
          -0.2512782477077902,
          -0.4675095277782463,
          -0.4457258806464334,
          0.24602582952067273,
          -0.18000981628748786,
          0.06311305765145986,
          0.535203079213125,
          0.6283936015923102,
          0.38889643155845777,
          0.42748845412989284,
          0.6251744091082106,
          -0.6975785082051303,
          -0.649353627425656,
          0.8219518898801437,
          -0.618441789264282,
          -0.4057810601449348,
          0.37196084936177604,
          0.33096266064472996,
          0.4915305842121284,
          0.630006208290046,
          0.24819481831547008,
          -0.010667693423972098
         ],
         "y": [
          0.11421380301097529,
          -0.12598698375053494,
          0.4603550250026577,
          0.30315666118531065,
          -0.26562321417797297,
          -0.6099671961413128,
          -0.5379885849988115,
          0.19096614770187945,
          0.08686187845451292,
          -0.21170977810380381,
          -0.6172184969122432,
          -0.7998598331492247,
          -0.8707608212330702,
          -0.35538468987286365,
          -0.5076794340978206,
          0.3518371348949506,
          0.46113475712725543,
          -0.6855255134330492,
          0.4247834703936509,
          0.2782996212476457,
          0.9316119917740547,
          0.6852825233080374,
          -0.2450059905737871,
          -0.44244815412452465,
          1,
          0.9866556764680885
         ],
         "z": [
          0.5007868828440506,
          0.6626048844102326,
          0.3799735872548,
          0.25390400473009145,
          0.35760891140206513,
          -0.23668033928228008,
          0.0999917839590876,
          -0.0215396743519369,
          0.2804611321738852,
          0.3023484331408176,
          -0.2922665998051844,
          -0.19704924658427447,
          -0.14186911781471026,
          0.14409073445355955,
          -0.16070386632248426,
          -0.787686275007794,
          -0.5397258674394633,
          -0.18063390606903387,
          -0.16744653794201084,
          0.4328154128534564,
          -0.2637662224547044,
          -0.06850782007757716,
          -0.2361004876424572,
          -0.41642237384033315,
          0.08373907073513456,
          0.21207349667706293
         ]
        }
       ],
       "layout": {
        "hovermode": "closest",
        "scene": {
         "xaxis": {
          "visible": false
         },
         "yaxis": {
          "visible": false
         },
         "zaxis": {
          "visible": false
         }
        },
        "showlegend": false,
        "template": {
         "data": {
          "bar": [
           {
            "error_x": {
             "color": "#2a3f5f"
            },
            "error_y": {
             "color": "#2a3f5f"
            },
            "marker": {
             "line": {
              "color": "#E5ECF6",
              "width": 0.5
             },
             "pattern": {
              "fillmode": "overlay",
              "size": 10,
              "solidity": 0.2
             }
            },
            "type": "bar"
           }
          ],
          "barpolar": [
           {
            "marker": {
             "line": {
              "color": "#E5ECF6",
              "width": 0.5
             },
             "pattern": {
              "fillmode": "overlay",
              "size": 10,
              "solidity": 0.2
             }
            },
            "type": "barpolar"
           }
          ],
          "carpet": [
           {
            "aaxis": {
             "endlinecolor": "#2a3f5f",
             "gridcolor": "white",
             "linecolor": "white",
             "minorgridcolor": "white",
             "startlinecolor": "#2a3f5f"
            },
            "baxis": {
             "endlinecolor": "#2a3f5f",
             "gridcolor": "white",
             "linecolor": "white",
             "minorgridcolor": "white",
             "startlinecolor": "#2a3f5f"
            },
            "type": "carpet"
           }
          ],
          "choropleth": [
           {
            "colorbar": {
             "outlinewidth": 0,
             "ticks": ""
            },
            "type": "choropleth"
           }
          ],
          "contour": [
           {
            "colorbar": {
             "outlinewidth": 0,
             "ticks": ""
            },
            "colorscale": [
             [
              0,
              "#0d0887"
             ],
             [
              0.1111111111111111,
              "#46039f"
             ],
             [
              0.2222222222222222,
              "#7201a8"
             ],
             [
              0.3333333333333333,
              "#9c179e"
             ],
             [
              0.4444444444444444,
              "#bd3786"
             ],
             [
              0.5555555555555556,
              "#d8576b"
             ],
             [
              0.6666666666666666,
              "#ed7953"
             ],
             [
              0.7777777777777778,
              "#fb9f3a"
             ],
             [
              0.8888888888888888,
              "#fdca26"
             ],
             [
              1,
              "#f0f921"
             ]
            ],
            "type": "contour"
           }
          ],
          "contourcarpet": [
           {
            "colorbar": {
             "outlinewidth": 0,
             "ticks": ""
            },
            "type": "contourcarpet"
           }
          ],
          "heatmap": [
           {
            "colorbar": {
             "outlinewidth": 0,
             "ticks": ""
            },
            "colorscale": [
             [
              0,
              "#0d0887"
             ],
             [
              0.1111111111111111,
              "#46039f"
             ],
             [
              0.2222222222222222,
              "#7201a8"
             ],
             [
              0.3333333333333333,
              "#9c179e"
             ],
             [
              0.4444444444444444,
              "#bd3786"
             ],
             [
              0.5555555555555556,
              "#d8576b"
             ],
             [
              0.6666666666666666,
              "#ed7953"
             ],
             [
              0.7777777777777778,
              "#fb9f3a"
             ],
             [
              0.8888888888888888,
              "#fdca26"
             ],
             [
              1,
              "#f0f921"
             ]
            ],
            "type": "heatmap"
           }
          ],
          "heatmapgl": [
           {
            "colorbar": {
             "outlinewidth": 0,
             "ticks": ""
            },
            "colorscale": [
             [
              0,
              "#0d0887"
             ],
             [
              0.1111111111111111,
              "#46039f"
             ],
             [
              0.2222222222222222,
              "#7201a8"
             ],
             [
              0.3333333333333333,
              "#9c179e"
             ],
             [
              0.4444444444444444,
              "#bd3786"
             ],
             [
              0.5555555555555556,
              "#d8576b"
             ],
             [
              0.6666666666666666,
              "#ed7953"
             ],
             [
              0.7777777777777778,
              "#fb9f3a"
             ],
             [
              0.8888888888888888,
              "#fdca26"
             ],
             [
              1,
              "#f0f921"
             ]
            ],
            "type": "heatmapgl"
           }
          ],
          "histogram": [
           {
            "marker": {
             "pattern": {
              "fillmode": "overlay",
              "size": 10,
              "solidity": 0.2
             }
            },
            "type": "histogram"
           }
          ],
          "histogram2d": [
           {
            "colorbar": {
             "outlinewidth": 0,
             "ticks": ""
            },
            "colorscale": [
             [
              0,
              "#0d0887"
             ],
             [
              0.1111111111111111,
              "#46039f"
             ],
             [
              0.2222222222222222,
              "#7201a8"
             ],
             [
              0.3333333333333333,
              "#9c179e"
             ],
             [
              0.4444444444444444,
              "#bd3786"
             ],
             [
              0.5555555555555556,
              "#d8576b"
             ],
             [
              0.6666666666666666,
              "#ed7953"
             ],
             [
              0.7777777777777778,
              "#fb9f3a"
             ],
             [
              0.8888888888888888,
              "#fdca26"
             ],
             [
              1,
              "#f0f921"
             ]
            ],
            "type": "histogram2d"
           }
          ],
          "histogram2dcontour": [
           {
            "colorbar": {
             "outlinewidth": 0,
             "ticks": ""
            },
            "colorscale": [
             [
              0,
              "#0d0887"
             ],
             [
              0.1111111111111111,
              "#46039f"
             ],
             [
              0.2222222222222222,
              "#7201a8"
             ],
             [
              0.3333333333333333,
              "#9c179e"
             ],
             [
              0.4444444444444444,
              "#bd3786"
             ],
             [
              0.5555555555555556,
              "#d8576b"
             ],
             [
              0.6666666666666666,
              "#ed7953"
             ],
             [
              0.7777777777777778,
              "#fb9f3a"
             ],
             [
              0.8888888888888888,
              "#fdca26"
             ],
             [
              1,
              "#f0f921"
             ]
            ],
            "type": "histogram2dcontour"
           }
          ],
          "mesh3d": [
           {
            "colorbar": {
             "outlinewidth": 0,
             "ticks": ""
            },
            "type": "mesh3d"
           }
          ],
          "parcoords": [
           {
            "line": {
             "colorbar": {
              "outlinewidth": 0,
              "ticks": ""
             }
            },
            "type": "parcoords"
           }
          ],
          "pie": [
           {
            "automargin": true,
            "type": "pie"
           }
          ],
          "scatter": [
           {
            "fillpattern": {
             "fillmode": "overlay",
             "size": 10,
             "solidity": 0.2
            },
            "type": "scatter"
           }
          ],
          "scatter3d": [
           {
            "line": {
             "colorbar": {
              "outlinewidth": 0,
              "ticks": ""
             }
            },
            "marker": {
             "colorbar": {
              "outlinewidth": 0,
              "ticks": ""
             }
            },
            "type": "scatter3d"
           }
          ],
          "scattercarpet": [
           {
            "marker": {
             "colorbar": {
              "outlinewidth": 0,
              "ticks": ""
             }
            },
            "type": "scattercarpet"
           }
          ],
          "scattergeo": [
           {
            "marker": {
             "colorbar": {
              "outlinewidth": 0,
              "ticks": ""
             }
            },
            "type": "scattergeo"
           }
          ],
          "scattergl": [
           {
            "marker": {
             "colorbar": {
              "outlinewidth": 0,
              "ticks": ""
             }
            },
            "type": "scattergl"
           }
          ],
          "scattermapbox": [
           {
            "marker": {
             "colorbar": {
              "outlinewidth": 0,
              "ticks": ""
             }
            },
            "type": "scattermapbox"
           }
          ],
          "scatterpolar": [
           {
            "marker": {
             "colorbar": {
              "outlinewidth": 0,
              "ticks": ""
             }
            },
            "type": "scatterpolar"
           }
          ],
          "scatterpolargl": [
           {
            "marker": {
             "colorbar": {
              "outlinewidth": 0,
              "ticks": ""
             }
            },
            "type": "scatterpolargl"
           }
          ],
          "scatterternary": [
           {
            "marker": {
             "colorbar": {
              "outlinewidth": 0,
              "ticks": ""
             }
            },
            "type": "scatterternary"
           }
          ],
          "surface": [
           {
            "colorbar": {
             "outlinewidth": 0,
             "ticks": ""
            },
            "colorscale": [
             [
              0,
              "#0d0887"
             ],
             [
              0.1111111111111111,
              "#46039f"
             ],
             [
              0.2222222222222222,
              "#7201a8"
             ],
             [
              0.3333333333333333,
              "#9c179e"
             ],
             [
              0.4444444444444444,
              "#bd3786"
             ],
             [
              0.5555555555555556,
              "#d8576b"
             ],
             [
              0.6666666666666666,
              "#ed7953"
             ],
             [
              0.7777777777777778,
              "#fb9f3a"
             ],
             [
              0.8888888888888888,
              "#fdca26"
             ],
             [
              1,
              "#f0f921"
             ]
            ],
            "type": "surface"
           }
          ],
          "table": [
           {
            "cells": {
             "fill": {
              "color": "#EBF0F8"
             },
             "line": {
              "color": "white"
             }
            },
            "header": {
             "fill": {
              "color": "#C8D4E3"
             },
             "line": {
              "color": "white"
             }
            },
            "type": "table"
           }
          ]
         },
         "layout": {
          "annotationdefaults": {
           "arrowcolor": "#2a3f5f",
           "arrowhead": 0,
           "arrowwidth": 1
          },
          "autotypenumbers": "strict",
          "coloraxis": {
           "colorbar": {
            "outlinewidth": 0,
            "ticks": ""
           }
          },
          "colorscale": {
           "diverging": [
            [
             0,
             "#8e0152"
            ],
            [
             0.1,
             "#c51b7d"
            ],
            [
             0.2,
             "#de77ae"
            ],
            [
             0.3,
             "#f1b6da"
            ],
            [
             0.4,
             "#fde0ef"
            ],
            [
             0.5,
             "#f7f7f7"
            ],
            [
             0.6,
             "#e6f5d0"
            ],
            [
             0.7,
             "#b8e186"
            ],
            [
             0.8,
             "#7fbc41"
            ],
            [
             0.9,
             "#4d9221"
            ],
            [
             1,
             "#276419"
            ]
           ],
           "sequential": [
            [
             0,
             "#0d0887"
            ],
            [
             0.1111111111111111,
             "#46039f"
            ],
            [
             0.2222222222222222,
             "#7201a8"
            ],
            [
             0.3333333333333333,
             "#9c179e"
            ],
            [
             0.4444444444444444,
             "#bd3786"
            ],
            [
             0.5555555555555556,
             "#d8576b"
            ],
            [
             0.6666666666666666,
             "#ed7953"
            ],
            [
             0.7777777777777778,
             "#fb9f3a"
            ],
            [
             0.8888888888888888,
             "#fdca26"
            ],
            [
             1,
             "#f0f921"
            ]
           ],
           "sequentialminus": [
            [
             0,
             "#0d0887"
            ],
            [
             0.1111111111111111,
             "#46039f"
            ],
            [
             0.2222222222222222,
             "#7201a8"
            ],
            [
             0.3333333333333333,
             "#9c179e"
            ],
            [
             0.4444444444444444,
             "#bd3786"
            ],
            [
             0.5555555555555556,
             "#d8576b"
            ],
            [
             0.6666666666666666,
             "#ed7953"
            ],
            [
             0.7777777777777778,
             "#fb9f3a"
            ],
            [
             0.8888888888888888,
             "#fdca26"
            ],
            [
             1,
             "#f0f921"
            ]
           ]
          },
          "colorway": [
           "#636efa",
           "#EF553B",
           "#00cc96",
           "#ab63fa",
           "#FFA15A",
           "#19d3f3",
           "#FF6692",
           "#B6E880",
           "#FF97FF",
           "#FECB52"
          ],
          "font": {
           "color": "#2a3f5f"
          },
          "geo": {
           "bgcolor": "white",
           "lakecolor": "white",
           "landcolor": "#E5ECF6",
           "showlakes": true,
           "showland": true,
           "subunitcolor": "white"
          },
          "hoverlabel": {
           "align": "left"
          },
          "hovermode": "closest",
          "mapbox": {
           "style": "light"
          },
          "paper_bgcolor": "white",
          "plot_bgcolor": "#E5ECF6",
          "polar": {
           "angularaxis": {
            "gridcolor": "white",
            "linecolor": "white",
            "ticks": ""
           },
           "bgcolor": "#E5ECF6",
           "radialaxis": {
            "gridcolor": "white",
            "linecolor": "white",
            "ticks": ""
           }
          },
          "scene": {
           "xaxis": {
            "backgroundcolor": "#E5ECF6",
            "gridcolor": "white",
            "gridwidth": 2,
            "linecolor": "white",
            "showbackground": true,
            "ticks": "",
            "zerolinecolor": "white"
           },
           "yaxis": {
            "backgroundcolor": "#E5ECF6",
            "gridcolor": "white",
            "gridwidth": 2,
            "linecolor": "white",
            "showbackground": true,
            "ticks": "",
            "zerolinecolor": "white"
           },
           "zaxis": {
            "backgroundcolor": "#E5ECF6",
            "gridcolor": "white",
            "gridwidth": 2,
            "linecolor": "white",
            "showbackground": true,
            "ticks": "",
            "zerolinecolor": "white"
           }
          },
          "shapedefaults": {
           "line": {
            "color": "#2a3f5f"
           }
          },
          "ternary": {
           "aaxis": {
            "gridcolor": "white",
            "linecolor": "white",
            "ticks": ""
           },
           "baxis": {
            "gridcolor": "white",
            "linecolor": "white",
            "ticks": ""
           },
           "bgcolor": "#E5ECF6",
           "caxis": {
            "gridcolor": "white",
            "linecolor": "white",
            "ticks": ""
           }
          },
          "title": {
           "x": 0.05
          },
          "xaxis": {
           "automargin": true,
           "gridcolor": "white",
           "linecolor": "white",
           "ticks": "",
           "title": {
            "standoff": 15
           },
           "zerolinecolor": "white",
           "zerolinewidth": 2
          },
          "yaxis": {
           "automargin": true,
           "gridcolor": "white",
           "linecolor": "white",
           "ticks": "",
           "title": {
            "standoff": 15
           },
           "zerolinecolor": "white",
           "zerolinewidth": 2
          }
         }
        },
        "title": {
         "text": "NBA Trade Deadline 2025 - Team P+R+A Changes"
        }
       }
      }
     },
     "metadata": {},
     "output_type": "display_data"
    },
    {
     "name": "stdout",
     "output_type": "stream",
     "text": [
      "\n",
      "Team PRA Changes:\n",
      "Spurs        99.7\n",
      "Jazz         75.5\n",
      "Pistons      51.8\n",
      "Knicks       39.4\n",
      "Clippers     35.3\n",
      "Hornets      31.2\n",
      "Cavaliers    30.4\n",
      "Pelicans     16.2\n",
      "Nets         14.5\n",
      "Grizzlies    11.6\n",
      "Lakers       10.9\n",
      "Raptors       6.9\n",
      "Celtics       3.0\n",
      "Rockets      -3.0\n",
      "76ers        -4.0\n",
      "Kings        -7.1\n",
      "Pacers       -7.7\n",
      "Thunder     -10.2\n",
      "Warriors    -17.8\n",
      "Suns        -23.0\n",
      "Bulls       -35.3\n",
      "Hawks       -50.7\n",
      "Wizards     -53.0\n",
      "Heat        -57.0\n",
      "Bucks       -64.4\n",
      "Mavericks   -93.2\n",
      "dtype: float64\n"
     ]
    }
   ],
   "source": [
    "from trade_network_viz import create_trade_network\n",
    "\n",
    "# Create the visualization\n",
    "fig, team_changes = create_trade_network(\"trades.csv\", \"playerStats.csv\")\n",
    "\n",
    "# Display the plot\n",
    "fig.show()\n",
    "\n",
    "# If you want to see the PRA changes as a sorted pandas Series\n",
    "import pandas as pd\n",
    "changes_series = pd.Series(team_changes).sort_values(ascending=False)\n",
    "print(\"\\nTeam PRA Changes:\")\n",
    "print(changes_series)"
   ]
  },
  {
   "cell_type": "code",
   "execution_count": null,
   "id": "1b816d29",
   "metadata": {},
   "outputs": [],
   "source": []
  }
 ],
 "metadata": {
  "kernelspec": {
   "display_name": "Python 3",
   "language": "python",
   "name": "python3"
  },
  "language_info": {
   "codemirror_mode": {
    "name": "ipython",
    "version": 3
   },
   "file_extension": ".py",
   "mimetype": "text/x-python",
   "name": "python",
   "nbconvert_exporter": "python",
   "pygments_lexer": "ipython3",
   "version": "3.12.7"
  }
 },
 "nbformat": 4,
 "nbformat_minor": 5
}
