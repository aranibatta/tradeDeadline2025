{
 "cells": [
  {
   "cell_type": "markdown",
   "id": "68a791ee-d1d5-4575-9967-cd25f8dc95dd",
   "metadata": {},
   "source": [
    "# Simple Analysis of the 2025 NBA Trade Deadline"
   ]
  },
  {
   "cell_type": "markdown",
   "id": "0250415f-1845-4ca3-973f-882e45f66551",
   "metadata": {},
   "source": [
    "I want to get a better understanding of who got traded during the deadline, get a better read of all the packages that got moved, and a working understanding of how the dynamics of this NBA season may have shifted. "
   ]
  }
 ],
 "metadata": {
  "kernelspec": {
   "display_name": "Python 3 (ipykernel)",
   "language": "python",
   "name": "python3"
  },
  "language_info": {
   "codemirror_mode": {
    "name": "ipython",
    "version": 3
   },
   "file_extension": ".py",
   "mimetype": "text/x-python",
   "name": "python",
   "nbconvert_exporter": "python",
   "pygments_lexer": "ipython3",
   "version": "3.12.7"
  }
 },
 "nbformat": 4,
 "nbformat_minor": 5
}
